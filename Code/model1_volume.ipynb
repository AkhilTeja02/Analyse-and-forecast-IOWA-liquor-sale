{
 "cells": [
  {
   "cell_type": "markdown",
   "id": "c710155b",
   "metadata": {},
   "source": [
    "# Building a model to predict volume sold(Gallons)"
   ]
  },
  {
   "cell_type": "code",
   "execution_count": 1,
   "id": "6d2c1a3a",
   "metadata": {},
   "outputs": [],
   "source": [
    "# Importing libraries\n",
    "import numpy as np\n",
    "import pandas as pd\n",
    "import seaborn as sns\n",
    "import matplotlib.pyplot as plt\n",
    "import plotly\n",
    "import plotly.graph_objects as go\n",
    "import plotly.offline as pyo\n",
    "from plotly.offline import iplot\n",
    "import datetime\n",
    "import warnings"
   ]
  },
  {
   "cell_type": "code",
   "execution_count": 2,
   "id": "caca51aa",
   "metadata": {},
   "outputs": [],
   "source": [
    "# Ignore warnings \n",
    "warnings.filterwarnings('ignore')"
   ]
  },
  {
   "cell_type": "code",
   "execution_count": 3,
   "id": "37cdf675",
   "metadata": {},
   "outputs": [
    {
     "data": {
      "text/html": [
       "<div>\n",
       "<style scoped>\n",
       "    .dataframe tbody tr th:only-of-type {\n",
       "        vertical-align: middle;\n",
       "    }\n",
       "\n",
       "    .dataframe tbody tr th {\n",
       "        vertical-align: top;\n",
       "    }\n",
       "\n",
       "    .dataframe thead th {\n",
       "        text-align: right;\n",
       "    }\n",
       "</style>\n",
       "<table border=\"1\" class=\"dataframe\">\n",
       "  <thead>\n",
       "    <tr style=\"text-align: right;\">\n",
       "      <th></th>\n",
       "      <th>Invoice/Item Number</th>\n",
       "      <th>Date</th>\n",
       "      <th>Store Number</th>\n",
       "      <th>Store Name</th>\n",
       "      <th>Address</th>\n",
       "      <th>City</th>\n",
       "      <th>Zip Code</th>\n",
       "      <th>County</th>\n",
       "      <th>Category</th>\n",
       "      <th>Category Name</th>\n",
       "      <th>...</th>\n",
       "      <th>Bottle Volume (ml)</th>\n",
       "      <th>State Bottle Cost</th>\n",
       "      <th>State Bottle Retail</th>\n",
       "      <th>Bottles Sold</th>\n",
       "      <th>Sale (Dollars)</th>\n",
       "      <th>Volume Sold (Liters)</th>\n",
       "      <th>Volume Sold (Gallons)</th>\n",
       "      <th>Profit (Dollars)</th>\n",
       "      <th>date_without_time</th>\n",
       "      <th>month</th>\n",
       "    </tr>\n",
       "  </thead>\n",
       "  <tbody>\n",
       "    <tr>\n",
       "      <th>0</th>\n",
       "      <td>INV-46142600002</td>\n",
       "      <td>04/03/2022</td>\n",
       "      <td>3842</td>\n",
       "      <td>BANCROFT LIQUOR STORE</td>\n",
       "      <td>107 N PORTLAND ST PO BX 222</td>\n",
       "      <td>BANCROFT</td>\n",
       "      <td>50517.0</td>\n",
       "      <td>KOSSUTH</td>\n",
       "      <td>1081200</td>\n",
       "      <td>CREAM LIQUEURS</td>\n",
       "      <td>...</td>\n",
       "      <td>1000</td>\n",
       "      <td>17.00</td>\n",
       "      <td>25.50</td>\n",
       "      <td>6</td>\n",
       "      <td>153.00</td>\n",
       "      <td>6.0</td>\n",
       "      <td>1.58</td>\n",
       "      <td>51.00</td>\n",
       "      <td>2022-04-03</td>\n",
       "      <td>Apr</td>\n",
       "    </tr>\n",
       "    <tr>\n",
       "      <th>1</th>\n",
       "      <td>INV-46142600006</td>\n",
       "      <td>04/03/2022</td>\n",
       "      <td>3842</td>\n",
       "      <td>BANCROFT LIQUOR STORE</td>\n",
       "      <td>107 N PORTLAND ST PO BX 222</td>\n",
       "      <td>BANCROFT</td>\n",
       "      <td>50517.0</td>\n",
       "      <td>KOSSUTH</td>\n",
       "      <td>1031100</td>\n",
       "      <td>AMERICAN VODKAS</td>\n",
       "      <td>...</td>\n",
       "      <td>1000</td>\n",
       "      <td>13.17</td>\n",
       "      <td>19.76</td>\n",
       "      <td>24</td>\n",
       "      <td>474.24</td>\n",
       "      <td>24.0</td>\n",
       "      <td>6.34</td>\n",
       "      <td>158.16</td>\n",
       "      <td>2022-04-03</td>\n",
       "      <td>Apr</td>\n",
       "    </tr>\n",
       "    <tr>\n",
       "      <th>2</th>\n",
       "      <td>INV-46142100001</td>\n",
       "      <td>04/03/2022</td>\n",
       "      <td>5941</td>\n",
       "      <td>PRIME MART - CEDAR FALLS</td>\n",
       "      <td>2728 CENTER ST</td>\n",
       "      <td>CEDAR FALLS</td>\n",
       "      <td>50613.0</td>\n",
       "      <td>BLACK HAWK</td>\n",
       "      <td>1012200</td>\n",
       "      <td>SCOTCH WHISKIES</td>\n",
       "      <td>...</td>\n",
       "      <td>750</td>\n",
       "      <td>150.00</td>\n",
       "      <td>225.00</td>\n",
       "      <td>2</td>\n",
       "      <td>450.00</td>\n",
       "      <td>1.5</td>\n",
       "      <td>0.39</td>\n",
       "      <td>150.00</td>\n",
       "      <td>2022-04-03</td>\n",
       "      <td>Apr</td>\n",
       "    </tr>\n",
       "    <tr>\n",
       "      <th>3</th>\n",
       "      <td>INV-46142400009</td>\n",
       "      <td>04/03/2022</td>\n",
       "      <td>4129</td>\n",
       "      <td>CYCLONE LIQUORS</td>\n",
       "      <td>626 LINCOLN WAY</td>\n",
       "      <td>AMES</td>\n",
       "      <td>50010.0</td>\n",
       "      <td>STORY</td>\n",
       "      <td>1032100</td>\n",
       "      <td>IMPORTED VODKAS</td>\n",
       "      <td>...</td>\n",
       "      <td>1000</td>\n",
       "      <td>15.16</td>\n",
       "      <td>22.74</td>\n",
       "      <td>60</td>\n",
       "      <td>1364.40</td>\n",
       "      <td>60.0</td>\n",
       "      <td>15.85</td>\n",
       "      <td>454.80</td>\n",
       "      <td>2022-04-03</td>\n",
       "      <td>Apr</td>\n",
       "    </tr>\n",
       "    <tr>\n",
       "      <th>4</th>\n",
       "      <td>INV-46142400014</td>\n",
       "      <td>04/03/2022</td>\n",
       "      <td>4129</td>\n",
       "      <td>CYCLONE LIQUORS</td>\n",
       "      <td>626 LINCOLN WAY</td>\n",
       "      <td>AMES</td>\n",
       "      <td>50010.0</td>\n",
       "      <td>STORY</td>\n",
       "      <td>1041100</td>\n",
       "      <td>AMERICAN DRY GINS</td>\n",
       "      <td>...</td>\n",
       "      <td>1000</td>\n",
       "      <td>7.33</td>\n",
       "      <td>11.00</td>\n",
       "      <td>4</td>\n",
       "      <td>44.00</td>\n",
       "      <td>4.0</td>\n",
       "      <td>1.05</td>\n",
       "      <td>14.68</td>\n",
       "      <td>2022-04-03</td>\n",
       "      <td>Apr</td>\n",
       "    </tr>\n",
       "  </tbody>\n",
       "</table>\n",
       "<p>5 rows × 25 columns</p>\n",
       "</div>"
      ],
      "text/plain": [
       "  Invoice/Item Number        Date  Store Number                Store Name  \\\n",
       "0     INV-46142600002  04/03/2022          3842     BANCROFT LIQUOR STORE   \n",
       "1     INV-46142600006  04/03/2022          3842     BANCROFT LIQUOR STORE   \n",
       "2     INV-46142100001  04/03/2022          5941  PRIME MART - CEDAR FALLS   \n",
       "3     INV-46142400009  04/03/2022          4129           CYCLONE LIQUORS   \n",
       "4     INV-46142400014  04/03/2022          4129           CYCLONE LIQUORS   \n",
       "\n",
       "                       Address         City  Zip Code      County  Category  \\\n",
       "0  107 N PORTLAND ST PO BX 222     BANCROFT   50517.0     KOSSUTH   1081200   \n",
       "1  107 N PORTLAND ST PO BX 222     BANCROFT   50517.0     KOSSUTH   1031100   \n",
       "2               2728 CENTER ST  CEDAR FALLS   50613.0  BLACK HAWK   1012200   \n",
       "3              626 LINCOLN WAY         AMES   50010.0       STORY   1032100   \n",
       "4              626 LINCOLN WAY         AMES   50010.0       STORY   1041100   \n",
       "\n",
       "       Category Name  ...  Bottle Volume (ml) State Bottle Cost  \\\n",
       "0     CREAM LIQUEURS  ...                1000             17.00   \n",
       "1    AMERICAN VODKAS  ...                1000             13.17   \n",
       "2    SCOTCH WHISKIES  ...                 750            150.00   \n",
       "3    IMPORTED VODKAS  ...                1000             15.16   \n",
       "4  AMERICAN DRY GINS  ...                1000              7.33   \n",
       "\n",
       "   State Bottle Retail Bottles Sold  Sale (Dollars)  Volume Sold (Liters)  \\\n",
       "0                25.50            6          153.00                   6.0   \n",
       "1                19.76           24          474.24                  24.0   \n",
       "2               225.00            2          450.00                   1.5   \n",
       "3                22.74           60         1364.40                  60.0   \n",
       "4                11.00            4           44.00                   4.0   \n",
       "\n",
       "   Volume Sold (Gallons)  Profit (Dollars)  date_without_time  month  \n",
       "0                   1.58             51.00         2022-04-03    Apr  \n",
       "1                   6.34            158.16         2022-04-03    Apr  \n",
       "2                   0.39            150.00         2022-04-03    Apr  \n",
       "3                  15.85            454.80         2022-04-03    Apr  \n",
       "4                   1.05             14.68         2022-04-03    Apr  \n",
       "\n",
       "[5 rows x 25 columns]"
      ]
     },
     "execution_count": 3,
     "metadata": {},
     "output_type": "execute_result"
    }
   ],
   "source": [
    "# Reading cleaned CSV file from analysis jupyter notebook\n",
    "df=pd.read_csv(\"cleaned_Iowa_Liquor_Sales.csv\")\n",
    "df.head(5)"
   ]
  },
  {
   "cell_type": "code",
   "execution_count": 4,
   "id": "52d7234b",
   "metadata": {},
   "outputs": [
    {
     "name": "stdout",
     "output_type": "stream",
     "text": [
      "<class 'pandas.core.frame.DataFrame'>\n",
      "RangeIndex: 1320163 entries, 0 to 1320162\n",
      "Data columns (total 25 columns):\n",
      " #   Column                 Non-Null Count    Dtype  \n",
      "---  ------                 --------------    -----  \n",
      " 0   Invoice/Item Number    1320163 non-null  object \n",
      " 1   Date                   1320163 non-null  object \n",
      " 2   Store Number           1320163 non-null  int64  \n",
      " 3   Store Name             1320163 non-null  object \n",
      " 4   Address                1320163 non-null  object \n",
      " 5   City                   1320163 non-null  object \n",
      " 6   Zip Code               1320163 non-null  float64\n",
      " 7   County                 1320163 non-null  object \n",
      " 8   Category               1320163 non-null  int64  \n",
      " 9   Category Name          1320163 non-null  object \n",
      " 10  Vendor Number          1320163 non-null  int64  \n",
      " 11  Vendor Name            1320163 non-null  object \n",
      " 12  Item Number            1320163 non-null  int64  \n",
      " 13  Item Description       1320163 non-null  object \n",
      " 14  Pack                   1320163 non-null  int64  \n",
      " 15  Bottle Volume (ml)     1320163 non-null  int64  \n",
      " 16  State Bottle Cost      1320163 non-null  float64\n",
      " 17  State Bottle Retail    1320163 non-null  float64\n",
      " 18  Bottles Sold           1320163 non-null  int64  \n",
      " 19  Sale (Dollars)         1320163 non-null  float64\n",
      " 20  Volume Sold (Liters)   1320163 non-null  float64\n",
      " 21  Volume Sold (Gallons)  1320163 non-null  float64\n",
      " 22  Profit (Dollars)       1320163 non-null  float64\n",
      " 23  date_without_time      1320163 non-null  object \n",
      " 24  month                  1320163 non-null  object \n",
      "dtypes: float64(7), int64(7), object(11)\n",
      "memory usage: 251.8+ MB\n"
     ]
    }
   ],
   "source": [
    "# Getting info of cleaned data set\n",
    "df.info()"
   ]
  },
  {
   "cell_type": "code",
   "execution_count": 5,
   "id": "2a3e71b2",
   "metadata": {},
   "outputs": [],
   "source": [
    "# Droping unnecessary columns\n",
    "df.drop(['Invoice/Item Number','Date','Store Number','Address','City','Zip Code','County','Category','Vendor Number','Item Number','Item Description','date_without_time','month','Volume Sold (Liters)','Store Name'],axis=1,inplace=True)"
   ]
  },
  {
   "cell_type": "code",
   "execution_count": 6,
   "id": "b0d32f25",
   "metadata": {},
   "outputs": [
    {
     "name": "stdout",
     "output_type": "stream",
     "text": [
      "<class 'pandas.core.frame.DataFrame'>\n",
      "RangeIndex: 1320163 entries, 0 to 1320162\n",
      "Data columns (total 10 columns):\n",
      " #   Column                 Non-Null Count    Dtype  \n",
      "---  ------                 --------------    -----  \n",
      " 0   Category Name          1320163 non-null  object \n",
      " 1   Vendor Name            1320163 non-null  object \n",
      " 2   Pack                   1320163 non-null  int64  \n",
      " 3   Bottle Volume (ml)     1320163 non-null  int64  \n",
      " 4   State Bottle Cost      1320163 non-null  float64\n",
      " 5   State Bottle Retail    1320163 non-null  float64\n",
      " 6   Bottles Sold           1320163 non-null  int64  \n",
      " 7   Sale (Dollars)         1320163 non-null  float64\n",
      " 8   Volume Sold (Gallons)  1320163 non-null  float64\n",
      " 9   Profit (Dollars)       1320163 non-null  float64\n",
      "dtypes: float64(5), int64(3), object(2)\n",
      "memory usage: 100.7+ MB\n"
     ]
    }
   ],
   "source": [
    "# checking whether the columns are dropped or not\n",
    "df.info()"
   ]
  },
  {
   "cell_type": "markdown",
   "id": "f8c00099",
   "metadata": {},
   "source": [
    "## Applying One Hot Encoding"
   ]
  },
  {
   "cell_type": "code",
   "execution_count": 7,
   "id": "2c3bb559",
   "metadata": {},
   "outputs": [],
   "source": [
    "# Getting dummies for categorical features (applying one hot encoding)\n",
    "df=pd.get_dummies(df, prefix=['Category Name', 'Vendor Name'])"
   ]
  },
  {
   "cell_type": "code",
   "execution_count": 8,
   "id": "6b7f21fa",
   "metadata": {},
   "outputs": [
    {
     "data": {
      "text/plain": [
       "(1320163, 270)"
      ]
     },
     "execution_count": 8,
     "metadata": {},
     "output_type": "execute_result"
    }
   ],
   "source": [
    "# To know shape of the dataframe\n",
    "df.shape"
   ]
  },
  {
   "cell_type": "code",
   "execution_count": 9,
   "id": "8f4afdc8",
   "metadata": {},
   "outputs": [],
   "source": [
    "# Seperating dependent and independent variables \n",
    "y1=df['Volume Sold (Gallons)']\n",
    "y2=df['Sale (Dollars)']\n",
    "y3=df['Profit (Dollars)']\n",
    "df.drop(['Volume Sold (Gallons)','Sale (Dollars)','Profit (Dollars)'],axis=1,inplace=True)\n",
    "# df.drop(['Volume Sold (Gallons)'],axis=1,inplace=True)\n",
    "X=df"
   ]
  },
  {
   "cell_type": "markdown",
   "id": "79057a65",
   "metadata": {},
   "source": [
    "## Scaling and Dimensionality reduction technique"
   ]
  },
  {
   "cell_type": "code",
   "execution_count": 10,
   "id": "e4755cb1",
   "metadata": {},
   "outputs": [],
   "source": [
    "# Importing libraries\n",
    "from sklearn.decomposition import PCA\n",
    "import matplotlib.pyplot as plt\n",
    "from sklearn.impute import KNNImputer\n",
    "from sklearn.compose import make_column_transformer\n",
    "from sklearn.pipeline import make_pipeline\n",
    "from sklearn.preprocessing import StandardScaler"
   ]
  },
  {
   "cell_type": "code",
   "execution_count": 11,
   "id": "040dff5c",
   "metadata": {},
   "outputs": [
    {
     "data": {
      "image/png": "[encoded data removed]",
      "text/plain": [
       "<Figure size 1080x360 with 1 Axes>"
      ]
     },
     "metadata": {
      "needs_background": "light"
     },
     "output_type": "display_data"
    }
   ],
   "source": [
    "# Standardize/scale the dataset and apply PCA\n",
    "# Extract the names of the numerical columns\n",
    "scaler = StandardScaler()\n",
    "pca = PCA()\n",
    "pipeline = make_pipeline(scaler,pca)\n",
    "pipeline.fit(X)\n",
    "# Plot the principal components against their inertia\n",
    "features = range(pca.n_components_)\n",
    "_ = plt.figure(figsize=(15, 5))\n",
    "_ = plt.bar(features, pca.explained_variance_)\n",
    "_ = plt.xlabel('PCA feature')\n",
    "_ = plt.ylabel('Variance')\n",
    "_ = plt.xticks(features)\n",
    "_ = plt.title(\"Importance of the Principal Components based on inertia\")\n",
    "plt.show()"
   ]
  },
  {
   "cell_type": "code",
   "execution_count": 12,
   "id": "72fdd038",
   "metadata": {},
   "outputs": [
    {
     "name": "stdout",
     "output_type": "stream",
     "text": [
      "(1320163, 12)\n",
      "Total number of components after applying PCA 12\n"
     ]
    }
   ],
   "source": [
    "# Applying column transform to apply scalling technique to selected columns\n",
    "ct = make_column_transformer( \n",
    "          (make_pipeline(KNNImputer(), StandardScaler()),\n",
    "          [\"Pack\",\"Bottle Volume (ml)\",\"State Bottle Cost\",\"State Bottle Retail\",\"Bottles Sold\"]),remainder=\"passthrough\"\n",
    "      )\n",
    "X = ct.fit_transform(X)\n",
    "# Applying dimensionality reduction technique (PCA) to reduce columns\n",
    "pca = PCA(n_components=0.85)\n",
    "X = pca.fit_transform(X)\n",
    "# Shape of data frame after applying PCA\n",
    "print(X.shape)\n",
    "print(\"Total number of components after applying PCA\",len(pca.components_))"
   ]
  },
  {
   "cell_type": "markdown",
   "id": "7b017817",
   "metadata": {},
   "source": [
    "## Train,Test and validation split"
   ]
  },
  {
   "cell_type": "code",
   "execution_count": 13,
   "id": "f4281e8f",
   "metadata": {},
   "outputs": [],
   "source": [
    "# Spliting the dataset into train, test and validation dataset\n",
    "from sklearn.model_selection import train_test_split\n",
    "X_train, X_rem, y1_train, y1_rem = train_test_split(X,y1, train_size=0.7,random_state=20)\n",
    "X_valid, X_test, y1_valid, y1_test = train_test_split(X_rem,y1_rem, test_size=0.5,random_state=20)"
   ]
  },
  {
   "cell_type": "markdown",
   "id": "9a443b88",
   "metadata": {},
   "source": [
    "## Modeling"
   ]
  },
  {
   "cell_type": "code",
   "execution_count": 14,
   "id": "6cef8a22",
   "metadata": {},
   "outputs": [
    {
     "name": "stdout",
     "output_type": "stream",
     "text": [
      "Requirement already satisfied: xgboost in c:\\users\\jampani akhil teja\\anaconda3\\lib\\site-packages (1.7.2)\n",
      "Note: you may need to restart the kernel to use updated packages.\n",
      "Requirement already satisfied: numpy in c:\\users\\jampani akhil teja\\anaconda3\\lib\\site-packages (from xgboost) (1.21.5)\n",
      "Requirement already satisfied: scipy in c:\\users\\jampani akhil teja\\anaconda3\\lib\\site-packages (from xgboost) (1.7.3)\n"
     ]
    }
   ],
   "source": [
    "pip install xgboost"
   ]
  },
  {
   "cell_type": "code",
   "execution_count": 15,
   "id": "22914aa3",
   "metadata": {},
   "outputs": [],
   "source": [
    "# Importing librarues\n",
    "from sklearn.linear_model import (LinearRegression, ElasticNetCV, RidgeCV)\n",
    "from sklearn.linear_model import LassoCV\n",
    "from sklearn.ensemble import RandomForestRegressor\n",
    "from sklearn.preprocessing import PolynomialFeatures\n",
    "from sklearn.model_selection import cross_validate, cross_val_predict\n",
    "from sklearn.svm import SVR\n",
    "from sklearn.pipeline import make_pipeline\n",
    "import xgboost"
   ]
  },
  {
   "cell_type": "code",
   "execution_count": 16,
   "id": "1af65258",
   "metadata": {},
   "outputs": [],
   "source": [
    "# Collecting the different type of estimators to select best regression model\n",
    "estimators = {\n",
    "    \"lr\": LinearRegression(),\n",
    "    \"lassocv\":LassoCV(),\n",
    "    \"ridge\":RidgeCV(alphas=np.logspace(-3,1,100)),\n",
    "    \"elastic\": ElasticNetCV(alphas=np.logspace(-3,2,100),l1_ratio=[.1, .5, .7, .9, .95, .99, 1]),\n",
    "}"
   ]
  },
  {
   "cell_type": "code",
   "execution_count": 17,
   "id": "4b5eef86",
   "metadata": {},
   "outputs": [
    {
     "name": "stdout",
     "output_type": "stream",
     "text": [
      "lr\n"
     ]
    },
    {
     "name": "stderr",
     "output_type": "stream",
     "text": [
      "[Parallel(n_jobs=1)]: Using backend SequentialBackend with 1 concurrent workers.\n"
     ]
    },
    {
     "name": "stdout",
     "output_type": "stream",
     "text": [
      "[CV] END .................................................... total time=   0.4s\n"
     ]
    },
    {
     "name": "stderr",
     "output_type": "stream",
     "text": [
      "[Parallel(n_jobs=1)]: Done   1 out of   1 | elapsed:    0.4s remaining:    0.0s\n"
     ]
    },
    {
     "name": "stdout",
     "output_type": "stream",
     "text": [
      "[CV] END .................................................... total time=   0.4s\n",
      "[CV] END .................................................... total time=   0.4s\n",
      "[CV] END .................................................... total time=   0.4s\n",
      "[CV] END .................................................... total time=   0.4s\n",
      "[CV] END .................................................... total time=   0.3s\n",
      "[CV] END .................................................... total time=   0.4s\n",
      "[CV] END .................................................... total time=   0.3s\n",
      "[CV] END .................................................... total time=   0.4s\n",
      "[CV] END .................................................... total time=   0.4s\n",
      "lassocv\n"
     ]
    },
    {
     "name": "stderr",
     "output_type": "stream",
     "text": [
      "[Parallel(n_jobs=1)]: Done  10 out of  10 | elapsed:    4.8s finished\n",
      "[Parallel(n_jobs=1)]: Using backend SequentialBackend with 1 concurrent workers.\n"
     ]
    },
    {
     "name": "stdout",
     "output_type": "stream",
     "text": [
      "[CV] END .................................................... total time=   5.9s\n"
     ]
    },
    {
     "name": "stderr",
     "output_type": "stream",
     "text": [
      "[Parallel(n_jobs=1)]: Done   1 out of   1 | elapsed:    5.9s remaining:    0.0s\n"
     ]
    },
    {
     "name": "stdout",
     "output_type": "stream",
     "text": [
      "[CV] END .................................................... total time=   5.8s\n",
      "[CV] END .................................................... total time=   5.7s\n",
      "[CV] END .................................................... total time=   5.6s\n",
      "[CV] END .................................................... total time=   5.7s\n",
      "[CV] END .................................................... total time=   5.5s\n",
      "[CV] END .................................................... total time=   5.6s\n",
      "[CV] END .................................................... total time=   5.6s\n",
      "[CV] END .................................................... total time=   5.6s\n",
      "[CV] END .................................................... total time=   5.6s\n",
      "ridge\n"
     ]
    },
    {
     "name": "stderr",
     "output_type": "stream",
     "text": [
      "[Parallel(n_jobs=1)]: Done  10 out of  10 | elapsed:   57.7s finished\n",
      "[Parallel(n_jobs=1)]: Using backend SequentialBackend with 1 concurrent workers.\n"
     ]
    },
    {
     "name": "stdout",
     "output_type": "stream",
     "text": [
      "[CV] END .................................................... total time=  13.6s\n"
     ]
    },
    {
     "name": "stderr",
     "output_type": "stream",
     "text": [
      "[Parallel(n_jobs=1)]: Done   1 out of   1 | elapsed:   13.6s remaining:    0.0s\n"
     ]
    },
    {
     "name": "stdout",
     "output_type": "stream",
     "text": [
      "[CV] END .................................................... total time=  14.0s\n",
      "[CV] END .................................................... total time=  14.0s\n",
      "[CV] END .................................................... total time=  14.2s\n",
      "[CV] END .................................................... total time=  14.6s\n",
      "[CV] END .................................................... total time=  14.9s\n",
      "[CV] END .................................................... total time=  15.0s\n",
      "[CV] END .................................................... total time=  13.5s\n",
      "[CV] END .................................................... total time=  13.5s\n",
      "[CV] END .................................................... total time=  14.1s\n",
      "elastic\n"
     ]
    },
    {
     "name": "stderr",
     "output_type": "stream",
     "text": [
      "[Parallel(n_jobs=1)]: Done  10 out of  10 | elapsed:  2.4min finished\n",
      "[Parallel(n_jobs=1)]: Using backend SequentialBackend with 1 concurrent workers.\n"
     ]
    },
    {
     "name": "stdout",
     "output_type": "stream",
     "text": [
      "[CV] END .................................................... total time=  42.6s\n"
     ]
    },
    {
     "name": "stderr",
     "output_type": "stream",
     "text": [
      "[Parallel(n_jobs=1)]: Done   1 out of   1 | elapsed:   42.7s remaining:    0.0s\n"
     ]
    },
    {
     "name": "stdout",
     "output_type": "stream",
     "text": [
      "[CV] END .................................................... total time=  43.0s\n",
      "[CV] END .................................................... total time=  42.9s\n",
      "[CV] END .................................................... total time=  43.6s\n",
      "[CV] END .................................................... total time=  41.8s\n",
      "[CV] END .................................................... total time=  44.3s\n",
      "[CV] END .................................................... total time=  46.8s\n",
      "[CV] END .................................................... total time=  43.2s\n",
      "[CV] END .................................................... total time=  43.7s\n",
      "[CV] END .................................................... total time=  44.7s\n"
     ]
    },
    {
     "name": "stderr",
     "output_type": "stream",
     "text": [
      "[Parallel(n_jobs=1)]: Done  10 out of  10 | elapsed:  7.3min finished\n"
     ]
    }
   ],
   "source": [
    "# Finding r2 score for all model by applying cross validation \n",
    "cv_results = {}\n",
    "for nm, est in estimators.items():\n",
    "  print(nm)\n",
    "  cv_results[nm] = cross_validate(est, X_train, y1_train,scoring=('r2'), return_estimator=True, cv=10,verbose=2)"
   ]
  },
  {
   "cell_type": "code",
   "execution_count": 18,
   "id": "630a6ebf",
   "metadata": {},
   "outputs": [
    {
     "data": {
      "text/plain": [
       "{'lr': 0.7902930230102471,\n",
       " 'lassocv': 0.7902663703203658,\n",
       " 'ridge': 0.7902931420690342,\n",
       " 'elastic': 0.7902961826218478}"
      ]
     },
     "execution_count": 18,
     "metadata": {},
     "output_type": "execute_result"
    }
   ],
   "source": [
    "# Getting mean of all test scores in cross validation\n",
    "{nm: np.mean(scr[\"test_score\"]) for nm, scr in cv_results.items()}"
   ]
  },
  {
   "cell_type": "code",
   "execution_count": 19,
   "id": "ea47523d",
   "metadata": {},
   "outputs": [],
   "source": [
    "# Predicting the target value for test data set\n",
    "y1_pred = cross_val_predict(estimators['lr'],  X_test, y1_test)"
   ]
  },
  {
   "cell_type": "code",
   "execution_count": 22,
   "id": "368246bd",
   "metadata": {},
   "outputs": [
    {
     "data": {
      "text/plain": [
       "<AxesSubplot:xlabel='Volume Sold (Gallons)', ylabel='Density'>"
      ]
     },
     "execution_count": 22,
     "metadata": {},
     "output_type": "execute_result"
    },
    {
     "data": {
      "image/png": "[encoded data removed]",
      "text/plain": [
       "<Figure size 864x576 with 1 Axes>"
      ]
     },
     "metadata": {
      "needs_background": "light"
     },
     "output_type": "display_data"
    }
   ],
   "source": [
    "# Ploting the histogram residual plot for test data\n",
    "import seaborn as sns\n",
    "fig,ax=plt.subplots(figsize=(12,8))\n",
    "delta_y1 = y1_test - y1_pred\n",
    "sns.distplot(delta_y1)"
   ]
  },
  {
   "cell_type": "code",
   "execution_count": 23,
   "id": "c7222f37",
   "metadata": {},
   "outputs": [],
   "source": [
    "# Performing  linear regression model \n",
    "rmod = LinearRegression()\n",
    "rmod.fit(X_train, y1_train)\n",
    "y_pred = rmod.predict(X_train)"
   ]
  },
  {
   "cell_type": "code",
   "execution_count": 24,
   "id": "3596b99b",
   "metadata": {},
   "outputs": [
    {
     "name": "stdout",
     "output_type": "stream",
     "text": [
      "Train r2 score : 0.7917671671939507\n",
      "Test r2 score : 0.7653453883492386\n",
      "validation set r2 score : 0.8224506088313659\n"
     ]
    }
   ],
   "source": [
    "# Finding r2 score for train, test and validation datasets \n",
    "from sklearn.metrics import r2_score\n",
    "print(\"Train r2 score :\",r2_score(y1_train,y_pred))\n",
    "y_pred1 = rmod.predict(X_test)\n",
    "from sklearn.metrics import r2_score\n",
    "print(\"Test r2 score :\",r2_score(y1_test,y_pred1))\n",
    "y_pred2 = rmod.predict(X_valid)\n",
    "from sklearn.metrics import r2_score\n",
    "print(\"validation set r2 score :\",r2_score(y1_valid,y_pred2))"
   ]
  },
  {
   "cell_type": "code",
   "execution_count": 25,
   "id": "40191f31",
   "metadata": {},
   "outputs": [],
   "source": [
    "from sklearn.tree import DecisionTreeRegressor\n",
    "from xgboost import XGBRegressor\n",
    "from sklearn.svm import SVR\n",
    "from sklearn.ensemble import RandomForestRegressor\n",
    "from sklearn.model_selection import GridSearchCV"
   ]
  },
  {
   "cell_type": "markdown",
   "id": "55ba176a",
   "metadata": {},
   "source": [
    "### Hyper parameter tunning for Xgboost Regressor"
   ]
  },
  {
   "cell_type": "code",
   "execution_count": 30,
   "id": "c94752ff",
   "metadata": {},
   "outputs": [],
   "source": [
    "# Finding the best hyperparameter for Xgboost regressor using Gride Search CV\n",
    "def hyperParameterTuning(X_train, y_train):\n",
    "    param_tuning = {\n",
    "        \n",
    "                'learning_rate': [0.01, 0.1],\n",
    "                'max_depth': [3, 5, 7, 10],\n",
    "                'min_child_weight': [1, 3, 5],\n",
    "                'subsample': [0.5, 0.7],\n",
    "                'colsample_bytree': [0.5, 0.7],\n",
    "                'n_estimators' : [100, 200, 500],\n",
    "                'objective': ['reg:squarederror']\n",
    "        }\n",
    "\n",
    "    xgb_model = XGBRegressor()\n",
    "\n",
    "    hyper_tuning_xgb = GridSearchCV(estimator = xgb_model,\n",
    "                           param_grid = param_tuning,                        \n",
    "                           scoring = 'r2',\n",
    "                           cv = 2,\n",
    "                           n_jobs = -1,\n",
    "                           verbose = 1)\n",
    "\n",
    "    hyper_tuning_xgb.fit(X_train,y_train)\n",
    "\n",
    "    return hyper_tuning_xgb.best_params_"
   ]
  },
  {
   "cell_type": "code",
   "execution_count": 31,
   "id": "fac5edf4",
   "metadata": {},
   "outputs": [
    {
     "name": "stdout",
     "output_type": "stream",
     "text": [
      "Fitting 2 folds for each of 288 candidates, totalling 576 fits\n"
     ]
    },
    {
     "data": {
      "text/plain": [
       "{'colsample_bytree': 0.7,\n",
       " 'learning_rate': 0.1,\n",
       " 'max_depth': 5,\n",
       " 'min_child_weight': 5,\n",
       " 'n_estimators': 500,\n",
       " 'objective': 'reg:squarederror',\n",
       " 'subsample': 0.5}"
      ]
     },
     "execution_count": 31,
     "metadata": {},
     "output_type": "execute_result"
    }
   ],
   "source": [
    "from sklearn.model_selection import GridSearchCV\n",
    "hyperParameterTuning(X_train[:3000,:], y1_train[:3000])"
   ]
  },
  {
   "cell_type": "markdown",
   "id": "c09f888d",
   "metadata": {},
   "source": [
    "### Hyper parameter tunning for Random Forest Regressor"
   ]
  },
  {
   "cell_type": "code",
   "execution_count": 32,
   "id": "b6bb0ad4",
   "metadata": {},
   "outputs": [],
   "source": [
    "# Finding the best hyperparameter for random forest regressor using randomized Search CV\n",
    "n_estimators = [5,20,50,100] # number of trees in the random forest\n",
    "max_features = ['auto', 'sqrt'] # number of features in consideration at every split\n",
    "max_depth = [int(x) for x in np.linspace(10, 120, num = 12)] # maximum number of levels allowed in each decision tree\n",
    "min_samples_split = [2, 6, 10] # minimum sample number to split a node\n",
    "min_samples_leaf = [1, 3, 4] # minimum sample number that can be stored in a leaf node\n",
    "bootstrap = [True, False] # method used to sample data points\n",
    "\n",
    "random_grid = {\n",
    "                'n_estimators': n_estimators,'max_features': max_features,\n",
    "               'max_depth': max_depth,'min_samples_split': min_samples_split,\n",
    "               'min_samples_leaf': min_samples_leaf,\n",
    "               'bootstrap': bootstrap\n",
    "              }"
   ]
  },
  {
   "cell_type": "code",
   "execution_count": 33,
   "id": "89b4c3a0",
   "metadata": {},
   "outputs": [],
   "source": [
    "## Importing Random Forest Classifier from the sklearn.ensemble\n",
    "from sklearn.ensemble import RandomForestRegressor\n",
    "rf_model = RandomForestRegressor()"
   ]
  },
  {
   "cell_type": "code",
   "execution_count": 34,
   "id": "a559791a",
   "metadata": {},
   "outputs": [],
   "source": [
    "from sklearn.model_selection import RandomizedSearchCV\n",
    "hyper_tuning_rf = RandomizedSearchCV(estimator = rf_model,param_distributions = random_grid,\n",
    "               n_iter = 100, cv = 2, verbose=2, random_state=35, n_jobs = -1)"
   ]
  },
  {
   "cell_type": "code",
   "execution_count": 35,
   "id": "af5351d7",
   "metadata": {},
   "outputs": [
    {
     "name": "stdout",
     "output_type": "stream",
     "text": [
      "Fitting 2 folds for each of 100 candidates, totalling 200 fits\n"
     ]
    },
    {
     "data": {
      "text/plain": [
       "RandomizedSearchCV(cv=2, estimator=RandomForestRegressor(), n_iter=100,\n",
       "                   n_jobs=-1,\n",
       "                   param_distributions={'bootstrap': [True, False],\n",
       "                                        'max_depth': [10, 20, 30, 40, 50, 60,\n",
       "                                                      70, 80, 90, 100, 110,\n",
       "                                                      120],\n",
       "                                        'max_features': ['auto', 'sqrt'],\n",
       "                                        'min_samples_leaf': [1, 3, 4],\n",
       "                                        'min_samples_split': [2, 6, 10],\n",
       "                                        'n_estimators': [5, 20, 50, 100]},\n",
       "                   random_state=35, verbose=2)"
      ]
     },
     "execution_count": 35,
     "metadata": {},
     "output_type": "execute_result"
    }
   ],
   "source": [
    "# Fitting the parameter into tunning model\n",
    "hyper_tuning_rf.fit(X_train[:3000,:], y1_train[:3000])"
   ]
  },
  {
   "cell_type": "code",
   "execution_count": 36,
   "id": "fbbb2ad9",
   "metadata": {},
   "outputs": [
    {
     "name": "stdout",
     "output_type": "stream",
     "text": [
      "Random grid:  RandomizedSearchCV(cv=2, estimator=RandomForestRegressor(), n_iter=100,\n",
      "                   n_jobs=-1,\n",
      "                   param_distributions={'bootstrap': [True, False],\n",
      "                                        'max_depth': [10, 20, 30, 40, 50, 60,\n",
      "                                                      70, 80, 90, 100, 110,\n",
      "                                                      120],\n",
      "                                        'max_features': ['auto', 'sqrt'],\n",
      "                                        'min_samples_leaf': [1, 3, 4],\n",
      "                                        'min_samples_split': [2, 6, 10],\n",
      "                                        'n_estimators': [5, 20, 50, 100]},\n",
      "                   random_state=35, verbose=2) \n",
      "\n",
      "Best Parameters:  {'n_estimators': 50, 'min_samples_split': 10, 'min_samples_leaf': 3, 'max_features': 'auto', 'max_depth': 90, 'bootstrap': False}  \n",
      "\n"
     ]
    }
   ],
   "source": [
    "print ('Random grid: ', hyper_tuning_rf, '\\n')\n",
    "# print the best parameters\n",
    "print ('Best Parameters: ', hyper_tuning_rf.best_params_, ' \\n')"
   ]
  },
  {
   "cell_type": "markdown",
   "id": "fb0c3799",
   "metadata": {},
   "source": [
    "### Finding best model Among clasification Regressors"
   ]
  },
  {
   "cell_type": "code",
   "execution_count": 37,
   "id": "43ea8b0d",
   "metadata": {},
   "outputs": [],
   "source": [
    "# Applying the classification regressors to find any model perform better than normal regressors\n",
    "cls_estimators = {\n",
    "    \n",
    "    \"Dtr\": DecisionTreeRegressor( max_depth= None, max_features = 'auto', max_leaf_nodes = None,\n",
    "                                 splitter = 'best'),\n",
    "    \"xgb\":XGBRegressor(n_estimators=500, objective=\"reg:squarederror\",max_depth=5,\n",
    "                       learning_rate=0.1,min_child_weight=5,subsample=0.5,\n",
    "                       reg_lambda=3),  \n",
    "    \"RFR\": RandomForestRegressor(n_estimators= 5, min_samples_split=10,\n",
    "                                 min_samples_leaf= 1,max_features= 'auto', max_depth=70,\n",
    "                                 bootstrap=True)\n",
    "    }"
   ]
  },
  {
   "cell_type": "code",
   "execution_count": 38,
   "id": "c89fd219",
   "metadata": {},
   "outputs": [
    {
     "name": "stdout",
     "output_type": "stream",
     "text": [
      "Dtr\n"
     ]
    },
    {
     "name": "stderr",
     "output_type": "stream",
     "text": [
      "[Parallel(n_jobs=1)]: Using backend SequentialBackend with 1 concurrent workers.\n"
     ]
    },
    {
     "name": "stdout",
     "output_type": "stream",
     "text": [
      "[CV] END .................................................... total time=   8.7s\n"
     ]
    },
    {
     "name": "stderr",
     "output_type": "stream",
     "text": [
      "[Parallel(n_jobs=1)]: Done   1 out of   1 | elapsed:    8.7s remaining:    0.0s\n"
     ]
    },
    {
     "name": "stdout",
     "output_type": "stream",
     "text": [
      "[CV] END .................................................... total time=   8.1s\n",
      "[CV] END .................................................... total time=   7.9s\n",
      "[CV] END .................................................... total time=   7.8s\n",
      "[CV] END .................................................... total time=   7.9s\n",
      "xgb\n"
     ]
    },
    {
     "name": "stderr",
     "output_type": "stream",
     "text": [
      "[Parallel(n_jobs=1)]: Done   5 out of   5 | elapsed:   40.9s finished\n",
      "[Parallel(n_jobs=1)]: Using backend SequentialBackend with 1 concurrent workers.\n"
     ]
    },
    {
     "name": "stdout",
     "output_type": "stream",
     "text": [
      "[CV] END .................................................... total time= 3.9min\n"
     ]
    },
    {
     "name": "stderr",
     "output_type": "stream",
     "text": [
      "[Parallel(n_jobs=1)]: Done   1 out of   1 | elapsed:  3.9min remaining:    0.0s\n"
     ]
    },
    {
     "name": "stdout",
     "output_type": "stream",
     "text": [
      "[CV] END .................................................... total time= 3.9min\n",
      "[CV] END .................................................... total time= 4.2min\n",
      "[CV] END .................................................... total time= 3.9min\n",
      "[CV] END .................................................... total time= 3.9min\n",
      "RFR\n"
     ]
    },
    {
     "name": "stderr",
     "output_type": "stream",
     "text": [
      "[Parallel(n_jobs=1)]: Done   5 out of   5 | elapsed: 19.8min finished\n",
      "[Parallel(n_jobs=1)]: Using backend SequentialBackend with 1 concurrent workers.\n"
     ]
    },
    {
     "name": "stdout",
     "output_type": "stream",
     "text": [
      "[CV] END .................................................... total time=  29.0s\n"
     ]
    },
    {
     "name": "stderr",
     "output_type": "stream",
     "text": [
      "[Parallel(n_jobs=1)]: Done   1 out of   1 | elapsed:   29.1s remaining:    0.0s\n"
     ]
    },
    {
     "name": "stdout",
     "output_type": "stream",
     "text": [
      "[CV] END .................................................... total time=  28.9s\n",
      "[CV] END .................................................... total time=  28.9s\n",
      "[CV] END .................................................... total time=  29.3s\n",
      "[CV] END .................................................... total time=  28.6s\n"
     ]
    },
    {
     "name": "stderr",
     "output_type": "stream",
     "text": [
      "[Parallel(n_jobs=1)]: Done   5 out of   5 | elapsed:  2.4min finished\n"
     ]
    }
   ],
   "source": [
    "# Finding r2 score for all model by applying cross validation \n",
    "cv_results_cls_reg = {}\n",
    "for nm, est in cls_estimators .items():\n",
    "  print(nm)\n",
    "  cv_results_cls_reg[nm] = cross_validate(est, X_train, y1_train,scoring=('r2'), return_estimator=True, cv=5,verbose=2)"
   ]
  },
  {
   "cell_type": "code",
   "execution_count": 39,
   "id": "10984371",
   "metadata": {},
   "outputs": [
    {
     "data": {
      "text/plain": [
       "{'Dtr': 0.9757380705395298,\n",
       " 'xgb': 0.9729751604228374,\n",
       " 'RFR': 0.9673707927551906}"
      ]
     },
     "execution_count": 39,
     "metadata": {},
     "output_type": "execute_result"
    }
   ],
   "source": [
    "# Getting mean of all test scores in cross validation\n",
    "{nm: np.mean(scr[\"test_score\"]) for nm, scr in cv_results_cls_reg.items()}"
   ]
  },
  {
   "cell_type": "markdown",
   "id": "951f8ffc",
   "metadata": {},
   "source": [
    "#### Among all models xgboost is performing very well with r2 score of 0.97. Let's analyize this model in detail"
   ]
  },
  {
   "cell_type": "code",
   "execution_count": 44,
   "id": "95243cfe",
   "metadata": {},
   "outputs": [],
   "source": [
    "# we already find the hyperparameters, I am reusing same parameters\n",
    "xgb_reg_model=XGBRegressor(n_estimators=500, objective=\"reg:squarederror\",max_depth=5,\n",
    "                       learning_rate=0.1,min_child_weight=5,subsample=0.5,\n",
    "                       reg_lambda=3)"
   ]
  },
  {
   "cell_type": "code",
   "execution_count": 45,
   "id": "83954e90",
   "metadata": {},
   "outputs": [],
   "source": [
    "# Fitting into model\n",
    "xgb_reg_model.fit(X_train, y1_train)\n",
    "y_pred = xgb_reg_model.predict(X_train)"
   ]
  },
  {
   "cell_type": "code",
   "execution_count": 46,
   "id": "27ae2673",
   "metadata": {},
   "outputs": [
    {
     "name": "stdout",
     "output_type": "stream",
     "text": [
      "Train r2 score : 0.9984025391787233\n",
      "Test r2 score : 0.9931746235641591\n",
      "validation set r2 score : 0.9532716068879667\n"
     ]
    }
   ],
   "source": [
    "# Finding r2 score for train, test and validation datasets \n",
    "from sklearn.metrics import r2_score\n",
    "print(\"Train r2 score :\",r2_score(y1_train,y_pred))\n",
    "y_pred1 = xgb_reg_model.predict(X_test)\n",
    "from sklearn.metrics import r2_score\n",
    "print(\"Test r2 score :\",r2_score(y1_test,y_pred1))\n",
    "y_pred2 = xgb_reg_model.predict(X_valid)\n",
    "from sklearn.metrics import r2_score\n",
    "print(\"validation set r2 score :\",r2_score(y1_valid,y_pred2))"
   ]
  },
  {
   "cell_type": "code",
   "execution_count": 48,
   "id": "09815167",
   "metadata": {},
   "outputs": [
    {
     "data": {
      "text/plain": [
       "<AxesSubplot:xlabel='Volume Sold (Gallons)', ylabel='Density'>"
      ]
     },
     "execution_count": 48,
     "metadata": {},
     "output_type": "execute_result"
    },
    {
     "data": {
      "image/png": "[encoded data removed]",
      "text/plain": [
       "<Figure size 864x576 with 1 Axes>"
      ]
     },
     "metadata": {
      "needs_background": "light"
     },
     "output_type": "display_data"
    }
   ],
   "source": [
    "# Ploting the histogram residual plot for test data\n",
    "import seaborn as sns\n",
    "fig,ax=plt.subplots(figsize=(12,8))\n",
    "delta_y1 = y1_test - y_pred1\n",
    "sns.distplot(delta_y1)"
   ]
  },
  {
   "cell_type": "code",
   "execution_count": 49,
   "id": "09d32b0c",
   "metadata": {},
   "outputs": [
    {
     "data": {
      "image/png": "[encoded data removed]",
      "text/plain": [
       "<Figure size 1080x720 with 1 Axes>"
      ]
     },
     "metadata": {
      "needs_background": "light"
     },
     "output_type": "display_data"
    }
   ],
   "source": [
    "#ploting the residual plot on validation data with the help of scatter plot\n",
    "plt.figure(figsize=[15,10])\n",
    "plt.scatter(y_pred2,y_pred2-y1_valid)\n",
    "plt.xlabel(\"Predicted value\",fontsize=16)\n",
    "plt.ylabel(\"Residual value\",fontsize=16)\n",
    "plt.title(\"Residual Plot on train data set\",fontsize=16)\n",
    "plt.show()"
   ]
  },
  {
   "cell_type": "code",
   "execution_count": 50,
   "id": "501a3c53",
   "metadata": {},
   "outputs": [
    {
     "name": "stdout",
     "output_type": "stream",
     "text": [
      "Mean absolute error(MAE) for test data set is  0.14480212302975223\n",
      "Mean squared error(MSE) for test data set is  0.6170813013455062\n",
      "Root mean absolute error(RMSE) for test data set is  0.7855452255252439\n"
     ]
    }
   ],
   "source": [
    "from sklearn import metrics\n",
    "print(\"Mean absolute error(MAE) for test data set is \",metrics.mean_absolute_error(y1_test,y_pred1))\n",
    "print(\"Mean squared error(MSE) for test data set is \",metrics.mean_squared_error(y1_test,y_pred1))\n",
    "print(\"Root mean absolute error(RMSE) for test data set is \",np.sqrt(metrics.mean_squared_error(y1_test,y_pred1)))"
   ]
  },
  {
   "cell_type": "markdown",
   "id": "6d122c5a",
   "metadata": {},
   "source": []
  },
  {
   "cell_type": "code",
   "execution_count": null,
   "id": "32853a0b",
   "metadata": {},
   "outputs": [],
   "source": []
  },
  {
   "cell_type": "code",
   "execution_count": null,
   "id": "68e471c2",
   "metadata": {},
   "outputs": [],
   "source": []
  },
  {
   "cell_type": "code",
   "execution_count": null,
   "id": "4705e822",
   "metadata": {},
   "outputs": [],
   "source": []
  },
  {
   "cell_type": "code",
   "execution_count": null,
   "id": "37fc0c97",
   "metadata": {},
   "outputs": [],
   "source": []
  },
  {
   "cell_type": "code",
   "execution_count": null,
   "id": "091ca640",
   "metadata": {},
   "outputs": [],
   "source": []
  },
  {
   "cell_type": "code",
   "execution_count": null,
   "id": "7be20ba7",
   "metadata": {},
   "outputs": [],
   "source": []
  },
  {
   "cell_type": "code",
   "execution_count": null,
   "id": "2f744fe5",
   "metadata": {},
   "outputs": [],
   "source": []
  },
  {
   "cell_type": "markdown",
   "id": "3001b4b3",
   "metadata": {},
   "source": []
  },
  {
   "cell_type": "code",
   "execution_count": null,
   "id": "2edf409f",
   "metadata": {},
   "outputs": [],
   "source": []
  },
  {
   "cell_type": "code",
   "execution_count": null,
   "id": "57715fd9",
   "metadata": {},
   "outputs": [],
   "source": []
  },
  {
   "cell_type": "code",
   "execution_count": null,
   "id": "8f7d2bc2",
   "metadata": {},
   "outputs": [],
   "source": []
  },
  {
   "cell_type": "markdown",
   "id": "341e3210",
   "metadata": {},
   "source": []
  },
  {
   "cell_type": "code",
   "execution_count": null,
   "id": "9c383c30",
   "metadata": {},
   "outputs": [],
   "source": []
  },
  {
   "cell_type": "code",
   "execution_count": null,
   "id": "416214c1",
   "metadata": {},
   "outputs": [],
   "source": []
  },
  {
   "cell_type": "code",
   "execution_count": null,
   "id": "e1b7132c",
   "metadata": {},
   "outputs": [],
   "source": []
  },
  {
   "cell_type": "code",
   "execution_count": null,
   "id": "34f5168f",
   "metadata": {},
   "outputs": [],
   "source": []
  }
 ],
 "metadata": {
  "kernelspec": {
   "display_name": "Python 3 (ipykernel)",
   "language": "python",
   "name": "python3"
  },
  "language_info": {
   "codemirror_mode": {
    "name": "ipython",
    "version": 3
   },
   "file_extension": ".py",
   "mimetype": "text/x-python",
   "name": "python",
   "nbconvert_exporter": "python",
   "pygments_lexer": "ipython3",
   "version": "3.9.12"
  }
 },
 "nbformat": 4,
 "nbformat_minor": 5
}
