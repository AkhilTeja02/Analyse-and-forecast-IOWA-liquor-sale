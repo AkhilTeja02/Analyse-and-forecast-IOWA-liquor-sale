{
 "cells": [
  {
   "cell_type": "markdown",
   "id": "620ea7c2",
   "metadata": {},
   "source": [
    "# Building a model to predict price of sales(dollars) made by the Iowa government."
   ]
  },
  {
   "cell_type": "code",
   "execution_count": 1,
   "id": "6d2c1a3a",
   "metadata": {},
   "outputs": [],
   "source": [
    "# Importing libraries\n",
    "import numpy as np\n",
    "import pandas as pd\n",
    "import seaborn as sns\n",
    "import matplotlib.pyplot as plt\n",
    "import plotly\n",
    "import plotly.graph_objects as go\n",
    "import plotly.offline as pyo\n",
    "from plotly.offline import iplot\n",
    "import datetime\n",
    "import warnings"
   ]
  },
  {
   "cell_type": "code",
   "execution_count": 2,
   "id": "caca51aa",
   "metadata": {},
   "outputs": [],
   "source": [
    "# Ignore warnings \n",
    "warnings.filterwarnings('ignore')"
   ]
  },
  {
   "cell_type": "code",
   "execution_count": 3,
   "id": "37cdf675",
   "metadata": {},
   "outputs": [
    {
     "data": {
      "text/html": [
       "<div>\n",
       "<style scoped>\n",
       "    .dataframe tbody tr th:only-of-type {\n",
       "        vertical-align: middle;\n",
       "    }\n",
       "\n",
       "    .dataframe tbody tr th {\n",
       "        vertical-align: top;\n",
       "    }\n",
       "\n",
       "    .dataframe thead th {\n",
       "        text-align: right;\n",
       "    }\n",
       "</style>\n",
       "<table border=\"1\" class=\"dataframe\">\n",
       "  <thead>\n",
       "    <tr style=\"text-align: right;\">\n",
       "      <th></th>\n",
       "      <th>Invoice/Item Number</th>\n",
       "      <th>Date</th>\n",
       "      <th>Store Number</th>\n",
       "      <th>Store Name</th>\n",
       "      <th>Address</th>\n",
       "      <th>City</th>\n",
       "      <th>Zip Code</th>\n",
       "      <th>County</th>\n",
       "      <th>Category</th>\n",
       "      <th>Category Name</th>\n",
       "      <th>...</th>\n",
       "      <th>Bottle Volume (ml)</th>\n",
       "      <th>State Bottle Cost</th>\n",
       "      <th>State Bottle Retail</th>\n",
       "      <th>Bottles Sold</th>\n",
       "      <th>Sale (Dollars)</th>\n",
       "      <th>Volume Sold (Liters)</th>\n",
       "      <th>Volume Sold (Gallons)</th>\n",
       "      <th>Profit (Dollars)</th>\n",
       "      <th>date_without_time</th>\n",
       "      <th>month</th>\n",
       "    </tr>\n",
       "  </thead>\n",
       "  <tbody>\n",
       "    <tr>\n",
       "      <th>0</th>\n",
       "      <td>INV-46142600002</td>\n",
       "      <td>04/03/2022</td>\n",
       "      <td>3842</td>\n",
       "      <td>BANCROFT LIQUOR STORE</td>\n",
       "      <td>107 N PORTLAND ST PO BX 222</td>\n",
       "      <td>BANCROFT</td>\n",
       "      <td>50517.0</td>\n",
       "      <td>KOSSUTH</td>\n",
       "      <td>1081200</td>\n",
       "      <td>CREAM LIQUEURS</td>\n",
       "      <td>...</td>\n",
       "      <td>1000</td>\n",
       "      <td>17.00</td>\n",
       "      <td>25.50</td>\n",
       "      <td>6</td>\n",
       "      <td>153.00</td>\n",
       "      <td>6.0</td>\n",
       "      <td>1.58</td>\n",
       "      <td>51.00</td>\n",
       "      <td>2022-04-03</td>\n",
       "      <td>Apr</td>\n",
       "    </tr>\n",
       "    <tr>\n",
       "      <th>1</th>\n",
       "      <td>INV-46142600006</td>\n",
       "      <td>04/03/2022</td>\n",
       "      <td>3842</td>\n",
       "      <td>BANCROFT LIQUOR STORE</td>\n",
       "      <td>107 N PORTLAND ST PO BX 222</td>\n",
       "      <td>BANCROFT</td>\n",
       "      <td>50517.0</td>\n",
       "      <td>KOSSUTH</td>\n",
       "      <td>1031100</td>\n",
       "      <td>AMERICAN VODKAS</td>\n",
       "      <td>...</td>\n",
       "      <td>1000</td>\n",
       "      <td>13.17</td>\n",
       "      <td>19.76</td>\n",
       "      <td>24</td>\n",
       "      <td>474.24</td>\n",
       "      <td>24.0</td>\n",
       "      <td>6.34</td>\n",
       "      <td>158.16</td>\n",
       "      <td>2022-04-03</td>\n",
       "      <td>Apr</td>\n",
       "    </tr>\n",
       "    <tr>\n",
       "      <th>2</th>\n",
       "      <td>INV-46142100001</td>\n",
       "      <td>04/03/2022</td>\n",
       "      <td>5941</td>\n",
       "      <td>PRIME MART - CEDAR FALLS</td>\n",
       "      <td>2728 CENTER ST</td>\n",
       "      <td>CEDAR FALLS</td>\n",
       "      <td>50613.0</td>\n",
       "      <td>BLACK HAWK</td>\n",
       "      <td>1012200</td>\n",
       "      <td>SCOTCH WHISKIES</td>\n",
       "      <td>...</td>\n",
       "      <td>750</td>\n",
       "      <td>150.00</td>\n",
       "      <td>225.00</td>\n",
       "      <td>2</td>\n",
       "      <td>450.00</td>\n",
       "      <td>1.5</td>\n",
       "      <td>0.39</td>\n",
       "      <td>150.00</td>\n",
       "      <td>2022-04-03</td>\n",
       "      <td>Apr</td>\n",
       "    </tr>\n",
       "    <tr>\n",
       "      <th>3</th>\n",
       "      <td>INV-46142400009</td>\n",
       "      <td>04/03/2022</td>\n",
       "      <td>4129</td>\n",
       "      <td>CYCLONE LIQUORS</td>\n",
       "      <td>626 LINCOLN WAY</td>\n",
       "      <td>AMES</td>\n",
       "      <td>50010.0</td>\n",
       "      <td>STORY</td>\n",
       "      <td>1032100</td>\n",
       "      <td>IMPORTED VODKAS</td>\n",
       "      <td>...</td>\n",
       "      <td>1000</td>\n",
       "      <td>15.16</td>\n",
       "      <td>22.74</td>\n",
       "      <td>60</td>\n",
       "      <td>1364.40</td>\n",
       "      <td>60.0</td>\n",
       "      <td>15.85</td>\n",
       "      <td>454.80</td>\n",
       "      <td>2022-04-03</td>\n",
       "      <td>Apr</td>\n",
       "    </tr>\n",
       "    <tr>\n",
       "      <th>4</th>\n",
       "      <td>INV-46142400014</td>\n",
       "      <td>04/03/2022</td>\n",
       "      <td>4129</td>\n",
       "      <td>CYCLONE LIQUORS</td>\n",
       "      <td>626 LINCOLN WAY</td>\n",
       "      <td>AMES</td>\n",
       "      <td>50010.0</td>\n",
       "      <td>STORY</td>\n",
       "      <td>1041100</td>\n",
       "      <td>AMERICAN DRY GINS</td>\n",
       "      <td>...</td>\n",
       "      <td>1000</td>\n",
       "      <td>7.33</td>\n",
       "      <td>11.00</td>\n",
       "      <td>4</td>\n",
       "      <td>44.00</td>\n",
       "      <td>4.0</td>\n",
       "      <td>1.05</td>\n",
       "      <td>14.68</td>\n",
       "      <td>2022-04-03</td>\n",
       "      <td>Apr</td>\n",
       "    </tr>\n",
       "  </tbody>\n",
       "</table>\n",
       "<p>5 rows × 25 columns</p>\n",
       "</div>"
      ],
      "text/plain": [
       "  Invoice/Item Number        Date  Store Number                Store Name  \\\n",
       "0     INV-46142600002  04/03/2022          3842     BANCROFT LIQUOR STORE   \n",
       "1     INV-46142600006  04/03/2022          3842     BANCROFT LIQUOR STORE   \n",
       "2     INV-46142100001  04/03/2022          5941  PRIME MART - CEDAR FALLS   \n",
       "3     INV-46142400009  04/03/2022          4129           CYCLONE LIQUORS   \n",
       "4     INV-46142400014  04/03/2022          4129           CYCLONE LIQUORS   \n",
       "\n",
       "                       Address         City  Zip Code      County  Category  \\\n",
       "0  107 N PORTLAND ST PO BX 222     BANCROFT   50517.0     KOSSUTH   1081200   \n",
       "1  107 N PORTLAND ST PO BX 222     BANCROFT   50517.0     KOSSUTH   1031100   \n",
       "2               2728 CENTER ST  CEDAR FALLS   50613.0  BLACK HAWK   1012200   \n",
       "3              626 LINCOLN WAY         AMES   50010.0       STORY   1032100   \n",
       "4              626 LINCOLN WAY         AMES   50010.0       STORY   1041100   \n",
       "\n",
       "       Category Name  ...  Bottle Volume (ml) State Bottle Cost  \\\n",
       "0     CREAM LIQUEURS  ...                1000             17.00   \n",
       "1    AMERICAN VODKAS  ...                1000             13.17   \n",
       "2    SCOTCH WHISKIES  ...                 750            150.00   \n",
       "3    IMPORTED VODKAS  ...                1000             15.16   \n",
       "4  AMERICAN DRY GINS  ...                1000              7.33   \n",
       "\n",
       "   State Bottle Retail Bottles Sold  Sale (Dollars)  Volume Sold (Liters)  \\\n",
       "0                25.50            6          153.00                   6.0   \n",
       "1                19.76           24          474.24                  24.0   \n",
       "2               225.00            2          450.00                   1.5   \n",
       "3                22.74           60         1364.40                  60.0   \n",
       "4                11.00            4           44.00                   4.0   \n",
       "\n",
       "   Volume Sold (Gallons)  Profit (Dollars)  date_without_time  month  \n",
       "0                   1.58             51.00         2022-04-03    Apr  \n",
       "1                   6.34            158.16         2022-04-03    Apr  \n",
       "2                   0.39            150.00         2022-04-03    Apr  \n",
       "3                  15.85            454.80         2022-04-03    Apr  \n",
       "4                   1.05             14.68         2022-04-03    Apr  \n",
       "\n",
       "[5 rows x 25 columns]"
      ]
     },
     "execution_count": 3,
     "metadata": {},
     "output_type": "execute_result"
    }
   ],
   "source": [
    "# Reading cleaned CSV file from analysis jupyter notebook\n",
    "df=pd.read_csv(\"cleaned_Iowa_Liquor_Sales.csv\")\n",
    "df.head(5)"
   ]
  },
  {
   "cell_type": "code",
   "execution_count": 4,
   "id": "52d7234b",
   "metadata": {},
   "outputs": [
    {
     "name": "stdout",
     "output_type": "stream",
     "text": [
      "<class 'pandas.core.frame.DataFrame'>\n",
      "RangeIndex: 1320163 entries, 0 to 1320162\n",
      "Data columns (total 25 columns):\n",
      " #   Column                 Non-Null Count    Dtype  \n",
      "---  ------                 --------------    -----  \n",
      " 0   Invoice/Item Number    1320163 non-null  object \n",
      " 1   Date                   1320163 non-null  object \n",
      " 2   Store Number           1320163 non-null  int64  \n",
      " 3   Store Name             1320163 non-null  object \n",
      " 4   Address                1320163 non-null  object \n",
      " 5   City                   1320163 non-null  object \n",
      " 6   Zip Code               1320163 non-null  float64\n",
      " 7   County                 1320163 non-null  object \n",
      " 8   Category               1320163 non-null  int64  \n",
      " 9   Category Name          1320163 non-null  object \n",
      " 10  Vendor Number          1320163 non-null  int64  \n",
      " 11  Vendor Name            1320163 non-null  object \n",
      " 12  Item Number            1320163 non-null  int64  \n",
      " 13  Item Description       1320163 non-null  object \n",
      " 14  Pack                   1320163 non-null  int64  \n",
      " 15  Bottle Volume (ml)     1320163 non-null  int64  \n",
      " 16  State Bottle Cost      1320163 non-null  float64\n",
      " 17  State Bottle Retail    1320163 non-null  float64\n",
      " 18  Bottles Sold           1320163 non-null  int64  \n",
      " 19  Sale (Dollars)         1320163 non-null  float64\n",
      " 20  Volume Sold (Liters)   1320163 non-null  float64\n",
      " 21  Volume Sold (Gallons)  1320163 non-null  float64\n",
      " 22  Profit (Dollars)       1320163 non-null  float64\n",
      " 23  date_without_time      1320163 non-null  object \n",
      " 24  month                  1320163 non-null  object \n",
      "dtypes: float64(7), int64(7), object(11)\n",
      "memory usage: 251.8+ MB\n"
     ]
    }
   ],
   "source": [
    "# Getting info of cleaned data set\n",
    "df.info()"
   ]
  },
  {
   "cell_type": "code",
   "execution_count": 5,
   "id": "2a3e71b2",
   "metadata": {},
   "outputs": [],
   "source": [
    "# Droping unnecessary columns\n",
    "df.drop(['Invoice/Item Number','Date','Store Number','Address','City','Zip Code','County','Category','Vendor Number','Item Number','Item Description','date_without_time','month','Volume Sold (Liters)','Store Name'],axis=1,inplace=True)"
   ]
  },
  {
   "cell_type": "code",
   "execution_count": 6,
   "id": "b0d32f25",
   "metadata": {},
   "outputs": [
    {
     "name": "stdout",
     "output_type": "stream",
     "text": [
      "<class 'pandas.core.frame.DataFrame'>\n",
      "RangeIndex: 1320163 entries, 0 to 1320162\n",
      "Data columns (total 10 columns):\n",
      " #   Column                 Non-Null Count    Dtype  \n",
      "---  ------                 --------------    -----  \n",
      " 0   Category Name          1320163 non-null  object \n",
      " 1   Vendor Name            1320163 non-null  object \n",
      " 2   Pack                   1320163 non-null  int64  \n",
      " 3   Bottle Volume (ml)     1320163 non-null  int64  \n",
      " 4   State Bottle Cost      1320163 non-null  float64\n",
      " 5   State Bottle Retail    1320163 non-null  float64\n",
      " 6   Bottles Sold           1320163 non-null  int64  \n",
      " 7   Sale (Dollars)         1320163 non-null  float64\n",
      " 8   Volume Sold (Gallons)  1320163 non-null  float64\n",
      " 9   Profit (Dollars)       1320163 non-null  float64\n",
      "dtypes: float64(5), int64(3), object(2)\n",
      "memory usage: 100.7+ MB\n"
     ]
    }
   ],
   "source": [
    "# checking whether the columns are dropped or not\n",
    "df.info()"
   ]
  },
  {
   "cell_type": "markdown",
   "id": "481a07bc",
   "metadata": {},
   "source": [
    "## Applying One Hot Encoding by selecting the top 10 important features"
   ]
  },
  {
   "cell_type": "markdown",
   "id": "b6177c5e",
   "metadata": {},
   "source": [
    "#### If I only used one hot encoding, there would be many columns. So, I am selecting the top 10 important features from each category column."
   ]
  },
  {
   "cell_type": "code",
   "execution_count": 7,
   "id": "2c3bb559",
   "metadata": {},
   "outputs": [
    {
     "data": {
      "text/plain": [
       "AMERICAN VODKAS                   205351\n",
       "CANADIAN WHISKIES                 114471\n",
       "STRAIGHT BOURBON WHISKIES          93763\n",
       "WHISKEY LIQUEUR                    77252\n",
       "AMERICAN FLAVORED VODKA            70325\n",
       "100% AGAVE TEQUILA                 55143\n",
       "SPICED RUM                         54065\n",
       "BLENDED WHISKIES                   50163\n",
       "AMERICAN SCHNAPPS                  42191\n",
       "TENNESSEE WHISKIES                 36388\n",
       "TEMPORARY & SPECIALTY PACKAGES     35514\n",
       "AMERICAN CORDIALS & LIQUEUR        34368\n",
       "IMPORTED VODKAS                    33228\n",
       "MIXTO TEQUILA                      30121\n",
       "AMERICAN BRANDIES                  29563\n",
       "FLAVORED RUM                       29471\n",
       "COCKTAILS /RTD                     26692\n",
       "IMPORTED BRANDIES                  26569\n",
       "WHITE RUM                          25928\n",
       "CREAM LIQUEURS                     22069\n",
       "Name: Category Name, dtype: int64"
      ]
     },
     "execution_count": 7,
     "metadata": {},
     "output_type": "execute_result"
    }
   ],
   "source": [
    "# Getting dummies for categorical features (applying one hot encoding)\n",
    "df[\"Category Name\"].value_counts().sort_values(ascending=False).head(20)"
   ]
  },
  {
   "cell_type": "code",
   "execution_count": 8,
   "id": "6b7f21fa",
   "metadata": {},
   "outputs": [],
   "source": [
    "def one_hot_top_x(df1, variable, top_x_labels):\n",
    "    for label in top_x_labels:\n",
    "        df1[variable+'_'+label] = np.where(df[variable]==label, 1, 0)"
   ]
  },
  {
   "cell_type": "code",
   "execution_count": 9,
   "id": "fea6fee1",
   "metadata": {},
   "outputs": [
    {
     "data": {
      "text/html": [
       "<div>\n",
       "<style scoped>\n",
       "    .dataframe tbody tr th:only-of-type {\n",
       "        vertical-align: middle;\n",
       "    }\n",
       "\n",
       "    .dataframe tbody tr th {\n",
       "        vertical-align: top;\n",
       "    }\n",
       "\n",
       "    .dataframe thead th {\n",
       "        text-align: right;\n",
       "    }\n",
       "</style>\n",
       "<table border=\"1\" class=\"dataframe\">\n",
       "  <thead>\n",
       "    <tr style=\"text-align: right;\">\n",
       "      <th></th>\n",
       "      <th>Category Name</th>\n",
       "      <th>Vendor Name</th>\n",
       "      <th>Pack</th>\n",
       "      <th>Bottle Volume (ml)</th>\n",
       "      <th>State Bottle Cost</th>\n",
       "      <th>State Bottle Retail</th>\n",
       "      <th>Bottles Sold</th>\n",
       "      <th>Sale (Dollars)</th>\n",
       "      <th>Volume Sold (Gallons)</th>\n",
       "      <th>Profit (Dollars)</th>\n",
       "      <th>Category Name_AMERICAN VODKAS</th>\n",
       "      <th>Category Name_CANADIAN WHISKIES</th>\n",
       "      <th>Category Name_STRAIGHT BOURBON WHISKIES</th>\n",
       "      <th>Category Name_WHISKEY LIQUEUR</th>\n",
       "      <th>Category Name_AMERICAN FLAVORED VODKA</th>\n",
       "      <th>Category Name_100% AGAVE TEQUILA</th>\n",
       "      <th>Category Name_SPICED RUM</th>\n",
       "      <th>Category Name_BLENDED WHISKIES</th>\n",
       "      <th>Category Name_AMERICAN SCHNAPPS</th>\n",
       "      <th>Category Name_TENNESSEE WHISKIES</th>\n",
       "    </tr>\n",
       "  </thead>\n",
       "  <tbody>\n",
       "    <tr>\n",
       "      <th>0</th>\n",
       "      <td>CREAM LIQUEURS</td>\n",
       "      <td>E &amp; J GALLO WINERY</td>\n",
       "      <td>6</td>\n",
       "      <td>1000</td>\n",
       "      <td>17.00</td>\n",
       "      <td>25.50</td>\n",
       "      <td>6</td>\n",
       "      <td>153.00</td>\n",
       "      <td>1.58</td>\n",
       "      <td>51.00</td>\n",
       "      <td>0</td>\n",
       "      <td>0</td>\n",
       "      <td>0</td>\n",
       "      <td>0</td>\n",
       "      <td>0</td>\n",
       "      <td>0</td>\n",
       "      <td>0</td>\n",
       "      <td>0</td>\n",
       "      <td>0</td>\n",
       "      <td>0</td>\n",
       "    </tr>\n",
       "    <tr>\n",
       "      <th>1</th>\n",
       "      <td>AMERICAN VODKAS</td>\n",
       "      <td>FIFTH GENERATION INC</td>\n",
       "      <td>12</td>\n",
       "      <td>1000</td>\n",
       "      <td>13.17</td>\n",
       "      <td>19.76</td>\n",
       "      <td>24</td>\n",
       "      <td>474.24</td>\n",
       "      <td>6.34</td>\n",
       "      <td>158.16</td>\n",
       "      <td>1</td>\n",
       "      <td>0</td>\n",
       "      <td>0</td>\n",
       "      <td>0</td>\n",
       "      <td>0</td>\n",
       "      <td>0</td>\n",
       "      <td>0</td>\n",
       "      <td>0</td>\n",
       "      <td>0</td>\n",
       "      <td>0</td>\n",
       "    </tr>\n",
       "    <tr>\n",
       "      <th>2</th>\n",
       "      <td>SCOTCH WHISKIES</td>\n",
       "      <td>WILLIAM GRANT &amp; SONS INC</td>\n",
       "      <td>3</td>\n",
       "      <td>750</td>\n",
       "      <td>150.00</td>\n",
       "      <td>225.00</td>\n",
       "      <td>2</td>\n",
       "      <td>450.00</td>\n",
       "      <td>0.39</td>\n",
       "      <td>150.00</td>\n",
       "      <td>0</td>\n",
       "      <td>0</td>\n",
       "      <td>0</td>\n",
       "      <td>0</td>\n",
       "      <td>0</td>\n",
       "      <td>0</td>\n",
       "      <td>0</td>\n",
       "      <td>0</td>\n",
       "      <td>0</td>\n",
       "      <td>0</td>\n",
       "    </tr>\n",
       "    <tr>\n",
       "      <th>3</th>\n",
       "      <td>IMPORTED VODKAS</td>\n",
       "      <td>DIAGEO AMERICAS</td>\n",
       "      <td>12</td>\n",
       "      <td>1000</td>\n",
       "      <td>15.16</td>\n",
       "      <td>22.74</td>\n",
       "      <td>60</td>\n",
       "      <td>1364.40</td>\n",
       "      <td>15.85</td>\n",
       "      <td>454.80</td>\n",
       "      <td>0</td>\n",
       "      <td>0</td>\n",
       "      <td>0</td>\n",
       "      <td>0</td>\n",
       "      <td>0</td>\n",
       "      <td>0</td>\n",
       "      <td>0</td>\n",
       "      <td>0</td>\n",
       "      <td>0</td>\n",
       "      <td>0</td>\n",
       "    </tr>\n",
       "    <tr>\n",
       "      <th>4</th>\n",
       "      <td>AMERICAN DRY GINS</td>\n",
       "      <td>E &amp; J GALLO WINERY</td>\n",
       "      <td>12</td>\n",
       "      <td>1000</td>\n",
       "      <td>7.33</td>\n",
       "      <td>11.00</td>\n",
       "      <td>4</td>\n",
       "      <td>44.00</td>\n",
       "      <td>1.05</td>\n",
       "      <td>14.68</td>\n",
       "      <td>0</td>\n",
       "      <td>0</td>\n",
       "      <td>0</td>\n",
       "      <td>0</td>\n",
       "      <td>0</td>\n",
       "      <td>0</td>\n",
       "      <td>0</td>\n",
       "      <td>0</td>\n",
       "      <td>0</td>\n",
       "      <td>0</td>\n",
       "    </tr>\n",
       "  </tbody>\n",
       "</table>\n",
       "</div>"
      ],
      "text/plain": [
       "       Category Name               Vendor Name  Pack  Bottle Volume (ml)  \\\n",
       "0     CREAM LIQUEURS        E & J GALLO WINERY     6                1000   \n",
       "1    AMERICAN VODKAS      FIFTH GENERATION INC    12                1000   \n",
       "2    SCOTCH WHISKIES  WILLIAM GRANT & SONS INC     3                 750   \n",
       "3    IMPORTED VODKAS           DIAGEO AMERICAS    12                1000   \n",
       "4  AMERICAN DRY GINS        E & J GALLO WINERY    12                1000   \n",
       "\n",
       "   State Bottle Cost  State Bottle Retail  Bottles Sold  Sale (Dollars)  \\\n",
       "0              17.00                25.50             6          153.00   \n",
       "1              13.17                19.76            24          474.24   \n",
       "2             150.00               225.00             2          450.00   \n",
       "3              15.16                22.74            60         1364.40   \n",
       "4               7.33                11.00             4           44.00   \n",
       "\n",
       "   Volume Sold (Gallons)  Profit (Dollars)  Category Name_AMERICAN VODKAS  \\\n",
       "0                   1.58             51.00                              0   \n",
       "1                   6.34            158.16                              1   \n",
       "2                   0.39            150.00                              0   \n",
       "3                  15.85            454.80                              0   \n",
       "4                   1.05             14.68                              0   \n",
       "\n",
       "   Category Name_CANADIAN WHISKIES  Category Name_STRAIGHT BOURBON WHISKIES  \\\n",
       "0                                0                                        0   \n",
       "1                                0                                        0   \n",
       "2                                0                                        0   \n",
       "3                                0                                        0   \n",
       "4                                0                                        0   \n",
       "\n",
       "   Category Name_WHISKEY LIQUEUR  Category Name_AMERICAN FLAVORED VODKA  \\\n",
       "0                              0                                      0   \n",
       "1                              0                                      0   \n",
       "2                              0                                      0   \n",
       "3                              0                                      0   \n",
       "4                              0                                      0   \n",
       "\n",
       "   Category Name_100% AGAVE TEQUILA  Category Name_SPICED RUM  \\\n",
       "0                                 0                         0   \n",
       "1                                 0                         0   \n",
       "2                                 0                         0   \n",
       "3                                 0                         0   \n",
       "4                                 0                         0   \n",
       "\n",
       "   Category Name_BLENDED WHISKIES  Category Name_AMERICAN SCHNAPPS  \\\n",
       "0                               0                                0   \n",
       "1                               0                                0   \n",
       "2                               0                                0   \n",
       "3                               0                                0   \n",
       "4                               0                                0   \n",
       "\n",
       "   Category Name_TENNESSEE WHISKIES  \n",
       "0                                 0  \n",
       "1                                 0  \n",
       "2                                 0  \n",
       "3                                 0  \n",
       "4                                 0  "
      ]
     },
     "execution_count": 9,
     "metadata": {},
     "output_type": "execute_result"
    }
   ],
   "source": [
    "top_10 = [x for x in df[\"Category Name\"].value_counts().sort_values(ascending=False).head(10).index]\n",
    "one_hot_top_x(df, 'Category Name', top_10)\n",
    "df.head()"
   ]
  },
  {
   "cell_type": "code",
   "execution_count": 10,
   "id": "35072ec9",
   "metadata": {},
   "outputs": [
    {
     "data": {
      "text/plain": [
       "SAZERAC COMPANY  INC                                          208658\n",
       "DIAGEO AMERICAS                                               206770\n",
       "JIM BEAM BRANDS                                               110711\n",
       "HEAVEN HILL BRANDS                                            101643\n",
       "LUXCO INC                                                      84781\n",
       "PERNOD RICARD USA                                              62652\n",
       "PROXIMO                                                        59139\n",
       "BACARDI USA INC                                                56455\n",
       "E & J GALLO WINERY                                             50514\n",
       "FIFTH GENERATION INC                                           39776\n",
       "BROWN FORMAN CORP.                                             38323\n",
       "MCCORMICK DISTILLING CO.                                       28204\n",
       "PHILLIPS BEVERAGE                                              24931\n",
       "LAIRD & COMPANY                                                22549\n",
       "OLE SMOKY DISTILLERY LLC                                       22174\n",
       "MOET HENNESSY USA                                              19332\n",
       "INTERCONTINENTAL PACKAGING COMPANY/PRESTIGE BEVERAGE GROUP     17431\n",
       "MAST-JAGERMEISTER US, INC                                      14474\n",
       "CAMPARI AMERICA                                                14245\n",
       "INFINIUM SPIRITS                                               13979\n",
       "Name: Vendor Name, dtype: int64"
      ]
     },
     "execution_count": 10,
     "metadata": {},
     "output_type": "execute_result"
    }
   ],
   "source": [
    "df[\"Vendor Name\"].value_counts().sort_values(ascending=False).head(20)"
   ]
  },
  {
   "cell_type": "code",
   "execution_count": 11,
   "id": "ce19e1f2",
   "metadata": {},
   "outputs": [
    {
     "data": {
      "text/html": [
       "<div>\n",
       "<style scoped>\n",
       "    .dataframe tbody tr th:only-of-type {\n",
       "        vertical-align: middle;\n",
       "    }\n",
       "\n",
       "    .dataframe tbody tr th {\n",
       "        vertical-align: top;\n",
       "    }\n",
       "\n",
       "    .dataframe thead th {\n",
       "        text-align: right;\n",
       "    }\n",
       "</style>\n",
       "<table border=\"1\" class=\"dataframe\">\n",
       "  <thead>\n",
       "    <tr style=\"text-align: right;\">\n",
       "      <th></th>\n",
       "      <th>Category Name</th>\n",
       "      <th>Vendor Name</th>\n",
       "      <th>Pack</th>\n",
       "      <th>Bottle Volume (ml)</th>\n",
       "      <th>State Bottle Cost</th>\n",
       "      <th>State Bottle Retail</th>\n",
       "      <th>Bottles Sold</th>\n",
       "      <th>Sale (Dollars)</th>\n",
       "      <th>Volume Sold (Gallons)</th>\n",
       "      <th>Profit (Dollars)</th>\n",
       "      <th>...</th>\n",
       "      <th>Vendor Name_SAZERAC COMPANY  INC</th>\n",
       "      <th>Vendor Name_DIAGEO AMERICAS</th>\n",
       "      <th>Vendor Name_JIM BEAM BRANDS</th>\n",
       "      <th>Vendor Name_HEAVEN HILL BRANDS</th>\n",
       "      <th>Vendor Name_LUXCO INC</th>\n",
       "      <th>Vendor Name_PERNOD RICARD USA</th>\n",
       "      <th>Vendor Name_PROXIMO</th>\n",
       "      <th>Vendor Name_BACARDI USA INC</th>\n",
       "      <th>Vendor Name_E &amp; J GALLO WINERY</th>\n",
       "      <th>Vendor Name_FIFTH GENERATION INC</th>\n",
       "    </tr>\n",
       "  </thead>\n",
       "  <tbody>\n",
       "    <tr>\n",
       "      <th>0</th>\n",
       "      <td>CREAM LIQUEURS</td>\n",
       "      <td>E &amp; J GALLO WINERY</td>\n",
       "      <td>6</td>\n",
       "      <td>1000</td>\n",
       "      <td>17.00</td>\n",
       "      <td>25.50</td>\n",
       "      <td>6</td>\n",
       "      <td>153.00</td>\n",
       "      <td>1.58</td>\n",
       "      <td>51.00</td>\n",
       "      <td>...</td>\n",
       "      <td>0</td>\n",
       "      <td>0</td>\n",
       "      <td>0</td>\n",
       "      <td>0</td>\n",
       "      <td>0</td>\n",
       "      <td>0</td>\n",
       "      <td>0</td>\n",
       "      <td>0</td>\n",
       "      <td>1</td>\n",
       "      <td>0</td>\n",
       "    </tr>\n",
       "    <tr>\n",
       "      <th>1</th>\n",
       "      <td>AMERICAN VODKAS</td>\n",
       "      <td>FIFTH GENERATION INC</td>\n",
       "      <td>12</td>\n",
       "      <td>1000</td>\n",
       "      <td>13.17</td>\n",
       "      <td>19.76</td>\n",
       "      <td>24</td>\n",
       "      <td>474.24</td>\n",
       "      <td>6.34</td>\n",
       "      <td>158.16</td>\n",
       "      <td>...</td>\n",
       "      <td>0</td>\n",
       "      <td>0</td>\n",
       "      <td>0</td>\n",
       "      <td>0</td>\n",
       "      <td>0</td>\n",
       "      <td>0</td>\n",
       "      <td>0</td>\n",
       "      <td>0</td>\n",
       "      <td>0</td>\n",
       "      <td>1</td>\n",
       "    </tr>\n",
       "    <tr>\n",
       "      <th>2</th>\n",
       "      <td>SCOTCH WHISKIES</td>\n",
       "      <td>WILLIAM GRANT &amp; SONS INC</td>\n",
       "      <td>3</td>\n",
       "      <td>750</td>\n",
       "      <td>150.00</td>\n",
       "      <td>225.00</td>\n",
       "      <td>2</td>\n",
       "      <td>450.00</td>\n",
       "      <td>0.39</td>\n",
       "      <td>150.00</td>\n",
       "      <td>...</td>\n",
       "      <td>0</td>\n",
       "      <td>0</td>\n",
       "      <td>0</td>\n",
       "      <td>0</td>\n",
       "      <td>0</td>\n",
       "      <td>0</td>\n",
       "      <td>0</td>\n",
       "      <td>0</td>\n",
       "      <td>0</td>\n",
       "      <td>0</td>\n",
       "    </tr>\n",
       "    <tr>\n",
       "      <th>3</th>\n",
       "      <td>IMPORTED VODKAS</td>\n",
       "      <td>DIAGEO AMERICAS</td>\n",
       "      <td>12</td>\n",
       "      <td>1000</td>\n",
       "      <td>15.16</td>\n",
       "      <td>22.74</td>\n",
       "      <td>60</td>\n",
       "      <td>1364.40</td>\n",
       "      <td>15.85</td>\n",
       "      <td>454.80</td>\n",
       "      <td>...</td>\n",
       "      <td>0</td>\n",
       "      <td>1</td>\n",
       "      <td>0</td>\n",
       "      <td>0</td>\n",
       "      <td>0</td>\n",
       "      <td>0</td>\n",
       "      <td>0</td>\n",
       "      <td>0</td>\n",
       "      <td>0</td>\n",
       "      <td>0</td>\n",
       "    </tr>\n",
       "    <tr>\n",
       "      <th>4</th>\n",
       "      <td>AMERICAN DRY GINS</td>\n",
       "      <td>E &amp; J GALLO WINERY</td>\n",
       "      <td>12</td>\n",
       "      <td>1000</td>\n",
       "      <td>7.33</td>\n",
       "      <td>11.00</td>\n",
       "      <td>4</td>\n",
       "      <td>44.00</td>\n",
       "      <td>1.05</td>\n",
       "      <td>14.68</td>\n",
       "      <td>...</td>\n",
       "      <td>0</td>\n",
       "      <td>0</td>\n",
       "      <td>0</td>\n",
       "      <td>0</td>\n",
       "      <td>0</td>\n",
       "      <td>0</td>\n",
       "      <td>0</td>\n",
       "      <td>0</td>\n",
       "      <td>1</td>\n",
       "      <td>0</td>\n",
       "    </tr>\n",
       "  </tbody>\n",
       "</table>\n",
       "<p>5 rows × 30 columns</p>\n",
       "</div>"
      ],
      "text/plain": [
       "       Category Name               Vendor Name  Pack  Bottle Volume (ml)  \\\n",
       "0     CREAM LIQUEURS        E & J GALLO WINERY     6                1000   \n",
       "1    AMERICAN VODKAS      FIFTH GENERATION INC    12                1000   \n",
       "2    SCOTCH WHISKIES  WILLIAM GRANT & SONS INC     3                 750   \n",
       "3    IMPORTED VODKAS           DIAGEO AMERICAS    12                1000   \n",
       "4  AMERICAN DRY GINS        E & J GALLO WINERY    12                1000   \n",
       "\n",
       "   State Bottle Cost  State Bottle Retail  Bottles Sold  Sale (Dollars)  \\\n",
       "0              17.00                25.50             6          153.00   \n",
       "1              13.17                19.76            24          474.24   \n",
       "2             150.00               225.00             2          450.00   \n",
       "3              15.16                22.74            60         1364.40   \n",
       "4               7.33                11.00             4           44.00   \n",
       "\n",
       "   Volume Sold (Gallons)  Profit (Dollars)  ...  \\\n",
       "0                   1.58             51.00  ...   \n",
       "1                   6.34            158.16  ...   \n",
       "2                   0.39            150.00  ...   \n",
       "3                  15.85            454.80  ...   \n",
       "4                   1.05             14.68  ...   \n",
       "\n",
       "   Vendor Name_SAZERAC COMPANY  INC  Vendor Name_DIAGEO AMERICAS  \\\n",
       "0                                 0                            0   \n",
       "1                                 0                            0   \n",
       "2                                 0                            0   \n",
       "3                                 0                            1   \n",
       "4                                 0                            0   \n",
       "\n",
       "   Vendor Name_JIM BEAM BRANDS  Vendor Name_HEAVEN HILL BRANDS  \\\n",
       "0                            0                               0   \n",
       "1                            0                               0   \n",
       "2                            0                               0   \n",
       "3                            0                               0   \n",
       "4                            0                               0   \n",
       "\n",
       "   Vendor Name_LUXCO INC  Vendor Name_PERNOD RICARD USA  Vendor Name_PROXIMO  \\\n",
       "0                      0                              0                    0   \n",
       "1                      0                              0                    0   \n",
       "2                      0                              0                    0   \n",
       "3                      0                              0                    0   \n",
       "4                      0                              0                    0   \n",
       "\n",
       "   Vendor Name_BACARDI USA INC  Vendor Name_E & J GALLO WINERY  \\\n",
       "0                            0                               1   \n",
       "1                            0                               0   \n",
       "2                            0                               0   \n",
       "3                            0                               0   \n",
       "4                            0                               1   \n",
       "\n",
       "   Vendor Name_FIFTH GENERATION INC  \n",
       "0                                 0  \n",
       "1                                 1  \n",
       "2                                 0  \n",
       "3                                 0  \n",
       "4                                 0  \n",
       "\n",
       "[5 rows x 30 columns]"
      ]
     },
     "execution_count": 11,
     "metadata": {},
     "output_type": "execute_result"
    }
   ],
   "source": [
    "top_10 = [x for x in df[\"Vendor Name\"].value_counts().sort_values(ascending=False).head(10).index]\n",
    "one_hot_top_x(df, 'Vendor Name', top_10)\n",
    "df.head()"
   ]
  },
  {
   "cell_type": "code",
   "execution_count": 12,
   "id": "e23ed7d1",
   "metadata": {},
   "outputs": [],
   "source": [
    "df.drop(['Category Name',\"Vendor Name\"],axis=1,inplace=True)"
   ]
  },
  {
   "cell_type": "code",
   "execution_count": 13,
   "id": "8f4afdc8",
   "metadata": {},
   "outputs": [],
   "source": [
    "# Seperating dependent and independent variables \n",
    "y1=df['Volume Sold (Gallons)']\n",
    "y2=df['Sale (Dollars)']\n",
    "y3=df['Profit (Dollars)']\n",
    "df.drop(['Volume Sold (Gallons)','Sale (Dollars)','Profit (Dollars)'],axis=1,inplace=True)\n",
    "X=df"
   ]
  },
  {
   "cell_type": "markdown",
   "id": "c2e3ff63",
   "metadata": {},
   "source": [
    "## Scaling"
   ]
  },
  {
   "cell_type": "code",
   "execution_count": 14,
   "id": "443d4e77",
   "metadata": {},
   "outputs": [],
   "source": [
    "# Importing libraries\n",
    "import matplotlib.pyplot as plt\n",
    "from sklearn.impute import KNNImputer\n",
    "from sklearn.compose import make_column_transformer\n",
    "from sklearn.pipeline import make_pipeline\n",
    "from sklearn.preprocessing import StandardScaler"
   ]
  },
  {
   "cell_type": "code",
   "execution_count": 15,
   "id": "72fdd038",
   "metadata": {},
   "outputs": [],
   "source": [
    "# Applying column transform to apply scalling technique to selected columns\n",
    "ct = make_column_transformer( \n",
    "          (make_pipeline(KNNImputer(), StandardScaler()),\n",
    "          [\"Pack\",\"Bottle Volume (ml)\",\"State Bottle Cost\",\"State Bottle Retail\",\"Bottles Sold\"]),remainder=\"passthrough\"\n",
    "      )\n",
    "X = ct.fit_transform(X)"
   ]
  },
  {
   "cell_type": "markdown",
   "id": "42bc31ed",
   "metadata": {},
   "source": [
    "## Train,Test and validation split"
   ]
  },
  {
   "cell_type": "code",
   "execution_count": 16,
   "id": "f4281e8f",
   "metadata": {},
   "outputs": [],
   "source": [
    "# Spliting the dataset into train, test and validation dataset\n",
    "from sklearn.model_selection import train_test_split\n",
    "X_train, X_rem, y2_train, y2_rem = train_test_split(X,y2, train_size=0.7,random_state=20)\n",
    "X_valid, X_test, y2_valid, y2_test = train_test_split(X_rem,y2_rem, test_size=0.5,random_state=20)"
   ]
  },
  {
   "cell_type": "markdown",
   "id": "d004fb40",
   "metadata": {},
   "source": [
    "## Modeling"
   ]
  },
  {
   "cell_type": "code",
   "execution_count": 17,
   "id": "6cef8a22",
   "metadata": {},
   "outputs": [
    {
     "name": "stdout",
     "output_type": "stream",
     "text": [
      "Requirement already satisfied: xgboost in c:\\users\\jampani akhil teja\\anaconda3\\lib\\site-packages (1.7.2)\n",
      "Requirement already satisfied: numpy in c:\\users\\jampani akhil teja\\anaconda3\\lib\\site-packages (from xgboost) (1.21.5)\n",
      "Requirement already satisfied: scipy in c:\\users\\jampani akhil teja\\anaconda3\\lib\\site-packages (from xgboost) (1.7.3)\n",
      "Note: you may need to restart the kernel to use updated packages.\n"
     ]
    }
   ],
   "source": [
    "pip install xgboost"
   ]
  },
  {
   "cell_type": "code",
   "execution_count": 18,
   "id": "22914aa3",
   "metadata": {},
   "outputs": [],
   "source": [
    "# Importing librarues\n",
    "from sklearn.linear_model import (LinearRegression, ElasticNetCV, RidgeCV)\n",
    "from sklearn.linear_model import LassoCV\n",
    "from sklearn.ensemble import RandomForestRegressor\n",
    "from sklearn.preprocessing import PolynomialFeatures\n",
    "from sklearn.model_selection import cross_validate, cross_val_predict\n",
    "from sklearn.svm import SVR\n",
    "from sklearn.pipeline import make_pipeline\n",
    "import xgboost"
   ]
  },
  {
   "cell_type": "code",
   "execution_count": 19,
   "id": "9e3e57a8",
   "metadata": {},
   "outputs": [],
   "source": [
    "# Collecting the different type of estimators to select best regression model\n",
    "estimators = {\n",
    "    \"lr\": LinearRegression(),\n",
    "    \"lassocv\":LassoCV(),\n",
    "    \"ridge\":RidgeCV(alphas=np.logspace(-3,1,100)),\n",
    "    \"elastic\": ElasticNetCV(alphas=np.logspace(-3,2,100),l1_ratio=[.1, .5, .7, .9, .95, .99, 1]),\n",
    "}"
   ]
  },
  {
   "cell_type": "code",
   "execution_count": 20,
   "id": "68242230",
   "metadata": {},
   "outputs": [
    {
     "name": "stdout",
     "output_type": "stream",
     "text": [
      "lr\n"
     ]
    },
    {
     "name": "stderr",
     "output_type": "stream",
     "text": [
      "[Parallel(n_jobs=1)]: Using backend SequentialBackend with 1 concurrent workers.\n"
     ]
    },
    {
     "name": "stdout",
     "output_type": "stream",
     "text": [
      "[CV] END .................................................... total time=   1.1s\n"
     ]
    },
    {
     "name": "stderr",
     "output_type": "stream",
     "text": [
      "[Parallel(n_jobs=1)]: Done   1 out of   1 | elapsed:    1.1s remaining:    0.0s\n"
     ]
    },
    {
     "name": "stdout",
     "output_type": "stream",
     "text": [
      "[CV] END .................................................... total time=   1.0s\n",
      "[CV] END .................................................... total time=   1.0s\n",
      "[CV] END .................................................... total time=   1.0s\n",
      "[CV] END .................................................... total time=   1.0s\n",
      "[CV] END .................................................... total time=   1.0s\n",
      "[CV] END .................................................... total time=   1.0s\n",
      "[CV] END .................................................... total time=   1.0s\n",
      "[CV] END .................................................... total time=   1.0s\n",
      "[CV] END .................................................... total time=   1.0s\n",
      "lassocv\n"
     ]
    },
    {
     "name": "stderr",
     "output_type": "stream",
     "text": [
      "[Parallel(n_jobs=1)]: Done  10 out of  10 | elapsed:   11.2s finished\n",
      "[Parallel(n_jobs=1)]: Using backend SequentialBackend with 1 concurrent workers.\n"
     ]
    },
    {
     "name": "stdout",
     "output_type": "stream",
     "text": [
      "[CV] END .................................................... total time=   8.9s\n"
     ]
    },
    {
     "name": "stderr",
     "output_type": "stream",
     "text": [
      "[Parallel(n_jobs=1)]: Done   1 out of   1 | elapsed:    9.0s remaining:    0.0s\n"
     ]
    },
    {
     "name": "stdout",
     "output_type": "stream",
     "text": [
      "[CV] END .................................................... total time=   8.9s\n",
      "[CV] END .................................................... total time=   9.1s\n",
      "[CV] END .................................................... total time=   8.9s\n",
      "[CV] END .................................................... total time=   8.9s\n",
      "[CV] END .................................................... total time=   8.9s\n",
      "[CV] END .................................................... total time=   9.1s\n",
      "[CV] END .................................................... total time=   9.0s\n",
      "[CV] END .................................................... total time=   8.9s\n",
      "[CV] END .................................................... total time=   8.8s\n",
      "ridge\n"
     ]
    },
    {
     "name": "stderr",
     "output_type": "stream",
     "text": [
      "[Parallel(n_jobs=1)]: Done  10 out of  10 | elapsed:  1.5min finished\n",
      "[Parallel(n_jobs=1)]: Using backend SequentialBackend with 1 concurrent workers.\n"
     ]
    },
    {
     "name": "stdout",
     "output_type": "stream",
     "text": [
      "[CV] END .................................................... total time=  25.2s\n"
     ]
    },
    {
     "name": "stderr",
     "output_type": "stream",
     "text": [
      "[Parallel(n_jobs=1)]: Done   1 out of   1 | elapsed:   25.2s remaining:    0.0s\n"
     ]
    },
    {
     "name": "stdout",
     "output_type": "stream",
     "text": [
      "[CV] END .................................................... total time=  24.7s\n",
      "[CV] END .................................................... total time=  24.8s\n",
      "[CV] END .................................................... total time=  25.4s\n",
      "[CV] END .................................................... total time=  24.6s\n",
      "[CV] END .................................................... total time=  26.2s\n",
      "[CV] END .................................................... total time=  24.9s\n",
      "[CV] END .................................................... total time=  24.6s\n",
      "[CV] END .................................................... total time=  24.8s\n",
      "[CV] END .................................................... total time=  24.7s\n",
      "elastic\n"
     ]
    },
    {
     "name": "stderr",
     "output_type": "stream",
     "text": [
      "[Parallel(n_jobs=1)]: Done  10 out of  10 | elapsed:  4.2min finished\n",
      "[Parallel(n_jobs=1)]: Using backend SequentialBackend with 1 concurrent workers.\n"
     ]
    },
    {
     "name": "stdout",
     "output_type": "stream",
     "text": [
      "[CV] END .................................................... total time= 2.2min\n"
     ]
    },
    {
     "name": "stderr",
     "output_type": "stream",
     "text": [
      "[Parallel(n_jobs=1)]: Done   1 out of   1 | elapsed:  2.2min remaining:    0.0s\n"
     ]
    },
    {
     "name": "stdout",
     "output_type": "stream",
     "text": [
      "[CV] END .................................................... total time= 2.3min\n",
      "[CV] END .................................................... total time= 2.2min\n",
      "[CV] END .................................................... total time=  55.0s\n",
      "[CV] END .................................................... total time=  54.2s\n",
      "[CV] END .................................................... total time=  54.2s\n",
      "[CV] END .................................................... total time=  54.3s\n",
      "[CV] END .................................................... total time= 2.2min\n",
      "[CV] END .................................................... total time= 2.2min\n",
      "[CV] END .................................................... total time= 2.2min\n"
     ]
    },
    {
     "name": "stderr",
     "output_type": "stream",
     "text": [
      "[Parallel(n_jobs=1)]: Done  10 out of  10 | elapsed: 16.7min finished\n"
     ]
    }
   ],
   "source": [
    "# Finding r2 score for all model by applying cross validation \n",
    "cv_results = {}\n",
    "for nm, est in estimators.items():\n",
    "  print(nm)\n",
    "  cv_results[nm] = cross_validate(est, X_train, y2_train,scoring=('r2'), return_estimator=True, cv=10,verbose=2)"
   ]
  },
  {
   "cell_type": "code",
   "execution_count": 21,
   "id": "8b14bb9d",
   "metadata": {},
   "outputs": [
    {
     "data": {
      "text/plain": [
       "{'lr': 0.6758622555478777,\n",
       " 'lassocv': 0.6756529237675689,\n",
       " 'ridge': 0.675871136218537,\n",
       " 'elastic': 0.675871786190023}"
      ]
     },
     "execution_count": 21,
     "metadata": {},
     "output_type": "execute_result"
    }
   ],
   "source": [
    "# Getting mean of all test scores in cross validation\n",
    "{nm: np.mean(scr[\"test_score\"]) for nm, scr in cv_results.items()}"
   ]
  },
  {
   "cell_type": "code",
   "execution_count": 22,
   "id": "e2687a08",
   "metadata": {},
   "outputs": [],
   "source": [
    "# Predicting the target value for test data set\n",
    "y2_pred = cross_val_predict(estimators['lr'],  X_test, y2_test)"
   ]
  },
  {
   "cell_type": "code",
   "execution_count": 23,
   "id": "71fadd8a",
   "metadata": {},
   "outputs": [
    {
     "data": {
      "text/plain": [
       "<AxesSubplot:xlabel='Sale (Dollars)', ylabel='Density'>"
      ]
     },
     "execution_count": 23,
     "metadata": {},
     "output_type": "execute_result"
    },
    {
     "data": {
      "image/png": "[encoded data removed]",
      "text/plain": [
       "<Figure size 864x576 with 1 Axes>"
      ]
     },
     "metadata": {
      "needs_background": "light"
     },
     "output_type": "display_data"
    }
   ],
   "source": [
    "# Ploting the histogram residual plot for test data\n",
    "import seaborn as sns\n",
    "fig,ax=plt.subplots(figsize=(12,8))\n",
    "delta_y2 = y2_test - y2_pred\n",
    "sns.distplot(delta_y2,bins=50)"
   ]
  },
  {
   "cell_type": "code",
   "execution_count": 24,
   "id": "c7222f37",
   "metadata": {},
   "outputs": [],
   "source": [
    "# Performing  linear regression model \n",
    "rmod = LinearRegression()\n",
    "rmod.fit(X_train, y2_train)\n",
    "y_pred = rmod.predict(X_train)"
   ]
  },
  {
   "cell_type": "code",
   "execution_count": 25,
   "id": "3596b99b",
   "metadata": {},
   "outputs": [
    {
     "name": "stdout",
     "output_type": "stream",
     "text": [
      "Train r2 score : 0.686303569471463\n",
      "Test r2 score : 0.6533095643362852\n",
      "validation set r2 score : 0.7011880807386421\n"
     ]
    }
   ],
   "source": [
    "# Finding r2 score for train, test and validation datasets \n",
    "from sklearn.metrics import r2_score\n",
    "print(\"Train r2 score :\",r2_score(y2_train,y_pred))\n",
    "y_pred1 = rmod.predict(X_test)\n",
    "from sklearn.metrics import r2_score\n",
    "print(\"Test r2 score :\",r2_score(y2_test,y_pred1))\n",
    "y_pred2 = rmod.predict(X_valid)\n",
    "from sklearn.metrics import r2_score\n",
    "print(\"validation set r2 score :\",r2_score(y2_valid,y_pred2))"
   ]
  },
  {
   "cell_type": "code",
   "execution_count": 26,
   "id": "40191f31",
   "metadata": {},
   "outputs": [],
   "source": [
    "from sklearn.tree import DecisionTreeRegressor\n",
    "from xgboost import XGBRegressor\n",
    "from sklearn.svm import SVR\n",
    "from sklearn.ensemble import RandomForestRegressor\n",
    "from sklearn.model_selection import GridSearchCV"
   ]
  },
  {
   "cell_type": "markdown",
   "id": "fcbca175",
   "metadata": {},
   "source": [
    "### Hyper parameter tunning for Xgboost Regressor"
   ]
  },
  {
   "cell_type": "code",
   "execution_count": 31,
   "id": "c94752ff",
   "metadata": {},
   "outputs": [],
   "source": [
    "# Finding the best hyperparameter for Xgboost regressor using Gride Search CV\n",
    "def hyperParameterTuning(X_train, y_train):\n",
    "    param_tuning = {\n",
    "        \n",
    "                'learning_rate': [0.01, 0.1],\n",
    "                'max_depth': [3, 5, 7, 10],\n",
    "                'min_child_weight': [1, 3, 5],\n",
    "                'subsample': [0.5, 0.7],\n",
    "                'colsample_bytree': [0.5, 0.7],\n",
    "                'n_estimators' : [100, 200, 500],\n",
    "                'objective': ['reg:squarederror']\n",
    "        }\n",
    "\n",
    "    xgb_model = XGBRegressor()\n",
    "\n",
    "    hyper_tuning_xgb = GridSearchCV(estimator = xgb_model,\n",
    "                           param_grid = param_tuning,                        \n",
    "                           scoring = 'r2',\n",
    "                           cv = 2,\n",
    "                           n_jobs = -1,\n",
    "                           verbose = 1)\n",
    "\n",
    "    hyper_tuning_xgb.fit(X_train,y_train)\n",
    "\n",
    "    return hyper_tuning_xgb.best_params_"
   ]
  },
  {
   "cell_type": "code",
   "execution_count": 32,
   "id": "fac5edf4",
   "metadata": {},
   "outputs": [
    {
     "name": "stdout",
     "output_type": "stream",
     "text": [
      "Fitting 2 folds for each of 288 candidates, totalling 576 fits\n"
     ]
    },
    {
     "data": {
      "text/plain": [
       "{'colsample_bytree': 0.5,\n",
       " 'learning_rate': 0.1,\n",
       " 'max_depth': 5,\n",
       " 'min_child_weight': 3,\n",
       " 'n_estimators': 200,\n",
       " 'objective': 'reg:squarederror',\n",
       " 'subsample': 0.7}"
      ]
     },
     "execution_count": 32,
     "metadata": {},
     "output_type": "execute_result"
    }
   ],
   "source": [
    "from sklearn.model_selection import GridSearchCV\n",
    "hyperParameterTuning(X_train[:3000,:], y2_train[:3000])"
   ]
  },
  {
   "cell_type": "markdown",
   "id": "2fce50ce",
   "metadata": {},
   "source": [
    "### Hyper parameter tunning for Random Forest Regressor"
   ]
  },
  {
   "cell_type": "code",
   "execution_count": 33,
   "id": "3ea43be6",
   "metadata": {},
   "outputs": [],
   "source": [
    "# Finding the best hyperparameter for random forest regressor using randomized Search CV\n",
    "n_estimators = [5,20,50,100] # number of trees in the random forest\n",
    "max_features = ['auto', 'sqrt'] # number of features in consideration at every split\n",
    "max_depth = [int(x) for x in np.linspace(10, 120, num = 12)] # maximum number of levels allowed in each decision tree\n",
    "min_samples_split = [2, 6, 10] # minimum sample number to split a node\n",
    "min_samples_leaf = [1, 3, 4] # minimum sample number that can be stored in a leaf node\n",
    "bootstrap = [True, False] # method used to sample data points\n",
    "\n",
    "random_grid = {\n",
    "                'n_estimators': n_estimators,'max_features': max_features,\n",
    "               'max_depth': max_depth,'min_samples_split': min_samples_split,\n",
    "               'min_samples_leaf': min_samples_leaf,\n",
    "               'bootstrap': bootstrap\n",
    "              }"
   ]
  },
  {
   "cell_type": "code",
   "execution_count": 34,
   "id": "a0ed6c50",
   "metadata": {},
   "outputs": [],
   "source": [
    "## Importing Random Forest Classifier from the sklearn.ensemble\n",
    "from sklearn.ensemble import RandomForestRegressor\n",
    "rf_model = RandomForestRegressor()"
   ]
  },
  {
   "cell_type": "code",
   "execution_count": 35,
   "id": "a9c124c7",
   "metadata": {},
   "outputs": [],
   "source": [
    "from sklearn.model_selection import RandomizedSearchCV\n",
    "hyper_tuning_rf = RandomizedSearchCV(estimator = rf_model,param_distributions = random_grid,\n",
    "               n_iter = 100, cv = 2, verbose=2, random_state=35, n_jobs = -1)"
   ]
  },
  {
   "cell_type": "code",
   "execution_count": 36,
   "id": "5078e4a7",
   "metadata": {},
   "outputs": [
    {
     "name": "stdout",
     "output_type": "stream",
     "text": [
      "Fitting 2 folds for each of 100 candidates, totalling 200 fits\n"
     ]
    },
    {
     "data": {
      "text/plain": [
       "RandomizedSearchCV(cv=2, estimator=RandomForestRegressor(), n_iter=100,\n",
       "                   n_jobs=-1,\n",
       "                   param_distributions={'bootstrap': [True, False],\n",
       "                                        'max_depth': [10, 20, 30, 40, 50, 60,\n",
       "                                                      70, 80, 90, 100, 110,\n",
       "                                                      120],\n",
       "                                        'max_features': ['auto', 'sqrt'],\n",
       "                                        'min_samples_leaf': [1, 3, 4],\n",
       "                                        'min_samples_split': [2, 6, 10],\n",
       "                                        'n_estimators': [5, 20, 50, 100]},\n",
       "                   random_state=35, verbose=2)"
      ]
     },
     "execution_count": 36,
     "metadata": {},
     "output_type": "execute_result"
    }
   ],
   "source": [
    "# Fitting the parameter into tunning model\n",
    "hyper_tuning_rf.fit(X_train[:3000,:], y2_train[:3000])"
   ]
  },
  {
   "cell_type": "code",
   "execution_count": 37,
   "id": "1596af71",
   "metadata": {},
   "outputs": [
    {
     "name": "stdout",
     "output_type": "stream",
     "text": [
      "Random grid:  RandomizedSearchCV(cv=2, estimator=RandomForestRegressor(), n_iter=100,\n",
      "                   n_jobs=-1,\n",
      "                   param_distributions={'bootstrap': [True, False],\n",
      "                                        'max_depth': [10, 20, 30, 40, 50, 60,\n",
      "                                                      70, 80, 90, 100, 110,\n",
      "                                                      120],\n",
      "                                        'max_features': ['auto', 'sqrt'],\n",
      "                                        'min_samples_leaf': [1, 3, 4],\n",
      "                                        'min_samples_split': [2, 6, 10],\n",
      "                                        'n_estimators': [5, 20, 50, 100]},\n",
      "                   random_state=35, verbose=2) \n",
      "\n",
      "Best Parameters:  {'n_estimators': 100, 'min_samples_split': 2, 'min_samples_leaf': 1, 'max_features': 'auto', 'max_depth': 90, 'bootstrap': True}  \n",
      "\n"
     ]
    }
   ],
   "source": [
    "print ('Random grid: ', hyper_tuning_rf, '\\n')\n",
    "# print the best parameters\n",
    "print ('Best Parameters: ', hyper_tuning_rf.best_params_, ' \\n')"
   ]
  },
  {
   "cell_type": "markdown",
   "id": "99665ab5",
   "metadata": {},
   "source": [
    "### Finding best model Among clasification Regressors"
   ]
  },
  {
   "cell_type": "code",
   "execution_count": 38,
   "id": "ad12482b",
   "metadata": {},
   "outputs": [],
   "source": [
    "# Applying the classification regressors to find any model perform better than normal regressors\n",
    "cls_estimators = {\n",
    "    \n",
    "    \"Dtr\": DecisionTreeRegressor( max_depth= None, max_features = 'auto', max_leaf_nodes = None,\n",
    "                                 splitter = 'best'),\n",
    "    \"xgb\":XGBRegressor(n_estimators=200, objective=\"reg:squarederror\",max_depth=5,\n",
    "                       learning_rate=0.1,min_child_weight=5,subsample=0.7,\n",
    "                       reg_lambda=3),  \n",
    "    \"RFR\": RandomForestRegressor(n_estimators= 100, min_samples_split=2,\n",
    "                                 min_samples_leaf= 1,max_features= 'auto', max_depth=120,\n",
    "                                 bootstrap=True)\n",
    "    }"
   ]
  },
  {
   "cell_type": "code",
   "execution_count": 39,
   "id": "b942a1bb",
   "metadata": {},
   "outputs": [
    {
     "name": "stdout",
     "output_type": "stream",
     "text": [
      "Dtr\n"
     ]
    },
    {
     "name": "stderr",
     "output_type": "stream",
     "text": [
      "[Parallel(n_jobs=1)]: Using backend SequentialBackend with 1 concurrent workers.\n"
     ]
    },
    {
     "name": "stdout",
     "output_type": "stream",
     "text": [
      "[CV] END .................................................... total time=   4.9s\n"
     ]
    },
    {
     "name": "stderr",
     "output_type": "stream",
     "text": [
      "[Parallel(n_jobs=1)]: Done   1 out of   1 | elapsed:    4.9s remaining:    0.0s\n"
     ]
    },
    {
     "name": "stdout",
     "output_type": "stream",
     "text": [
      "[CV] END .................................................... total time=   5.1s\n",
      "[CV] END .................................................... total time=   4.6s\n",
      "[CV] END .................................................... total time=   5.1s\n",
      "[CV] END .................................................... total time=   4.6s\n",
      "xgb\n"
     ]
    },
    {
     "name": "stderr",
     "output_type": "stream",
     "text": [
      "[Parallel(n_jobs=1)]: Done   5 out of   5 | elapsed:   24.9s finished\n",
      "[Parallel(n_jobs=1)]: Using backend SequentialBackend with 1 concurrent workers.\n"
     ]
    },
    {
     "name": "stdout",
     "output_type": "stream",
     "text": [
      "[CV] END .................................................... total time= 1.3min\n"
     ]
    },
    {
     "name": "stderr",
     "output_type": "stream",
     "text": [
      "[Parallel(n_jobs=1)]: Done   1 out of   1 | elapsed:  1.3min remaining:    0.0s\n"
     ]
    },
    {
     "name": "stdout",
     "output_type": "stream",
     "text": [
      "[CV] END .................................................... total time= 1.3min\n",
      "[CV] END .................................................... total time= 1.3min\n",
      "[CV] END .................................................... total time= 1.3min\n",
      "[CV] END .................................................... total time= 1.3min\n",
      "RFR\n"
     ]
    },
    {
     "name": "stderr",
     "output_type": "stream",
     "text": [
      "[Parallel(n_jobs=1)]: Done   5 out of   5 | elapsed:  6.6min finished\n",
      "[Parallel(n_jobs=1)]: Using backend SequentialBackend with 1 concurrent workers.\n"
     ]
    },
    {
     "name": "stdout",
     "output_type": "stream",
     "text": [
      "[CV] END .................................................... total time= 5.3min\n"
     ]
    },
    {
     "name": "stderr",
     "output_type": "stream",
     "text": [
      "[Parallel(n_jobs=1)]: Done   1 out of   1 | elapsed:  5.3min remaining:    0.0s\n"
     ]
    },
    {
     "name": "stdout",
     "output_type": "stream",
     "text": [
      "[CV] END .................................................... total time= 5.4min\n",
      "[CV] END .................................................... total time= 5.1min\n",
      "[CV] END .................................................... total time= 5.3min\n",
      "[CV] END .................................................... total time= 5.2min\n"
     ]
    },
    {
     "name": "stderr",
     "output_type": "stream",
     "text": [
      "[Parallel(n_jobs=1)]: Done   5 out of   5 | elapsed: 26.3min finished\n"
     ]
    }
   ],
   "source": [
    "# Finding r2 score for all model by applying cross validation \n",
    "cv_results_cls_reg = {}\n",
    "for nm, est in cls_estimators .items():\n",
    "  print(nm)\n",
    "  cv_results_cls_reg[nm] = cross_validate(est, X_train, y2_train,scoring=('r2'), return_estimator=True, cv=5,verbose=2)"
   ]
  },
  {
   "cell_type": "code",
   "execution_count": 40,
   "id": "3ae28162",
   "metadata": {},
   "outputs": [
    {
     "data": {
      "text/plain": [
       "{'Dtr': 0.9480259011006252,\n",
       " 'xgb': 0.9737602246038207,\n",
       " 'RFR': 0.9700650318677901}"
      ]
     },
     "execution_count": 40,
     "metadata": {},
     "output_type": "execute_result"
    }
   ],
   "source": [
    "# Getting mean of all test scores in cross validation\n",
    "{nm: np.mean(scr[\"test_score\"]) for nm, scr in cv_results_cls_reg.items()}"
   ]
  },
  {
   "cell_type": "markdown",
   "id": "d09f4d76",
   "metadata": {},
   "source": [
    "#### Among all models xgboost is performing very well with r2 score of 0.9737. Let's analyize this model in detail"
   ]
  },
  {
   "cell_type": "code",
   "execution_count": 45,
   "id": "74e21281",
   "metadata": {},
   "outputs": [],
   "source": [
    "# we already find the hyperparameters, I am reusing same parameters\n",
    "xgb_reg_model=XGBRegressor(n_estimators=500, objective=\"reg:squarederror\",max_depth=5,\n",
    "                       learning_rate=0.1,min_child_weight=5,subsample=0.5,\n",
    "                       reg_lambda=3)"
   ]
  },
  {
   "cell_type": "code",
   "execution_count": 47,
   "id": "1ff1453a",
   "metadata": {},
   "outputs": [],
   "source": [
    "# Fitting into model\n",
    "xgb_reg_model.fit(X_train, y2_train)\n",
    "y_pred = xgb_reg_model.predict(X_train)"
   ]
  },
  {
   "cell_type": "code",
   "execution_count": 48,
   "id": "b5279907",
   "metadata": {},
   "outputs": [
    {
     "name": "stdout",
     "output_type": "stream",
     "text": [
      "Train r2 score : 0.9853017459545271\n",
      "Test r2 score : 0.9970258563920585\n",
      "validation set r2 score : 0.995787863911886\n"
     ]
    }
   ],
   "source": [
    "# Finding r2 score for train, test and validation datasets \n",
    "from sklearn.metrics import r2_score\n",
    "print(\"Train r2 score :\",r2_score(y2_train,y_pred))\n",
    "y_pred1 = xgb_reg_model.predict(X_test)\n",
    "from sklearn.metrics import r2_score\n",
    "print(\"Test r2 score :\",r2_score(y2_test,y_pred1))\n",
    "y_pred2 = xgb_reg_model.predict(X_valid)\n",
    "from sklearn.metrics import r2_score\n",
    "print(\"validation set r2 score :\",r2_score(y2_valid,y_pred2))"
   ]
  },
  {
   "cell_type": "code",
   "execution_count": 49,
   "id": "09815167",
   "metadata": {},
   "outputs": [
    {
     "data": {
      "text/plain": [
       "<AxesSubplot:xlabel='Sale (Dollars)', ylabel='Density'>"
      ]
     },
     "execution_count": 49,
     "metadata": {},
     "output_type": "execute_result"
    },
    {
     "data": {
      "image/png": "[encoded data removed]",
      "text/plain": [
       "<Figure size 864x576 with 1 Axes>"
      ]
     },
     "metadata": {
      "needs_background": "light"
     },
     "output_type": "display_data"
    }
   ],
   "source": [
    "# Ploting the histogram residual plot for test data\n",
    "import seaborn as sns\n",
    "fig,ax=plt.subplots(figsize=(12,8))\n",
    "delta_y2 = y2_test - y_pred1\n",
    "sns.distplot(delta_y2,bins=50)"
   ]
  },
  {
   "cell_type": "code",
   "execution_count": 50,
   "id": "0c7e7e3c",
   "metadata": {},
   "outputs": [
    {
     "data": {
      "image/png": "[encoded data removed]",
      "text/plain": [
       "<Figure size 1080x720 with 1 Axes>"
      ]
     },
     "metadata": {
      "needs_background": "light"
     },
     "output_type": "display_data"
    }
   ],
   "source": [
    "#ploting the residual plot on validation data with the help of scatter plot\n",
    "plt.figure(figsize=[15,10])\n",
    "plt.scatter(y_pred2,y_pred2-y2_valid)\n",
    "plt.xlabel(\"Predicted value\",fontsize=16)\n",
    "plt.ylabel(\"Residual value\",fontsize=16)\n",
    "plt.title(\"Residual Plot on train data set\",fontsize=16)\n",
    "plt.show()"
   ]
  },
  {
   "cell_type": "code",
   "execution_count": 51,
   "id": "3cbff0ec",
   "metadata": {},
   "outputs": [
    {
     "name": "stdout",
     "output_type": "stream",
     "text": [
      "Mean absolute error(MAE) for test data set is  5.649905023195989\n",
      "Mean squared error(MSE) for test data set is  767.295472845152\n",
      "Root mean absolute error(RMSE) for test data set is  27.70009878764247\n"
     ]
    }
   ],
   "source": [
    "from sklearn import metrics\n",
    "print(\"Mean absolute error(MAE) for test data set is \",metrics.mean_absolute_error(y2_test,y_pred1))\n",
    "print(\"Mean squared error(MSE) for test data set is \",metrics.mean_squared_error(y2_test,y_pred1))\n",
    "print(\"Root mean absolute error(RMSE) for test data set is \",np.sqrt(metrics.mean_squared_error(y2_test,y_pred1)))"
   ]
  },
  {
   "cell_type": "markdown",
   "id": "f4c98ccc",
   "metadata": {},
   "source": []
  },
  {
   "cell_type": "code",
   "execution_count": null,
   "id": "c31e6dc3",
   "metadata": {},
   "outputs": [],
   "source": []
  },
  {
   "cell_type": "code",
   "execution_count": null,
   "id": "f418b7dc",
   "metadata": {},
   "outputs": [],
   "source": []
  },
  {
   "cell_type": "code",
   "execution_count": null,
   "id": "f8af7bbf",
   "metadata": {},
   "outputs": [],
   "source": []
  },
  {
   "cell_type": "code",
   "execution_count": null,
   "id": "9e765b7f",
   "metadata": {},
   "outputs": [],
   "source": []
  },
  {
   "cell_type": "code",
   "execution_count": null,
   "id": "7e3dbdc5",
   "metadata": {},
   "outputs": [],
   "source": []
  },
  {
   "cell_type": "code",
   "execution_count": null,
   "id": "87151d50",
   "metadata": {},
   "outputs": [],
   "source": []
  },
  {
   "cell_type": "code",
   "execution_count": null,
   "id": "34f1cea1",
   "metadata": {},
   "outputs": [],
   "source": []
  },
  {
   "cell_type": "code",
   "execution_count": null,
   "id": "d1ef59ee",
   "metadata": {},
   "outputs": [],
   "source": []
  },
  {
   "cell_type": "markdown",
   "id": "cbb7cd87",
   "metadata": {},
   "source": []
  },
  {
   "cell_type": "code",
   "execution_count": null,
   "id": "a0bd5de1",
   "metadata": {},
   "outputs": [],
   "source": []
  },
  {
   "cell_type": "markdown",
   "id": "3cd9517c",
   "metadata": {},
   "source": []
  },
  {
   "cell_type": "code",
   "execution_count": null,
   "id": "6f39b7c2",
   "metadata": {},
   "outputs": [],
   "source": []
  },
  {
   "cell_type": "code",
   "execution_count": null,
   "id": "41d5751d",
   "metadata": {},
   "outputs": [],
   "source": []
  },
  {
   "cell_type": "code",
   "execution_count": null,
   "id": "fe35b28b",
   "metadata": {},
   "outputs": [],
   "source": []
  },
  {
   "cell_type": "code",
   "execution_count": null,
   "id": "e1b7132c",
   "metadata": {},
   "outputs": [],
   "source": []
  },
  {
   "cell_type": "code",
   "execution_count": null,
   "id": "b4f51deb",
   "metadata": {},
   "outputs": [],
   "source": []
  }
 ],
 "metadata": {
  "kernelspec": {
   "display_name": "Python 3 (ipykernel)",
   "language": "python",
   "name": "python3"
  },
  "language_info": {
   "codemirror_mode": {
    "name": "ipython",
    "version": 3
   },
   "file_extension": ".py",
   "mimetype": "text/x-python",
   "name": "python",
   "nbconvert_exporter": "python",
   "pygments_lexer": "ipython3",
   "version": "3.9.12"
  }
 },
 "nbformat": 4,
 "nbformat_minor": 5
}
